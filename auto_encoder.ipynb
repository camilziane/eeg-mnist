{
 "cells": [
  {
   "cell_type": "code",
   "execution_count": 1,
   "metadata": {},
   "outputs": [],
   "source": [
    "import pandas as pd\n",
    "import random\n",
    "from torch.utils.data import Dataset, DataLoader, random_split\n",
    "import numpy as np\n",
    "import torch\n",
    "import torch.nn as nn\n",
    "import pytorch_lightning as pl\n",
    "from pytorch_lightning import Trainer\n",
    "from pytorch_lightning.callbacks import Callback\n",
    "import matplotlib.pyplot as plt\n",
    "from torchvision import datasets, transforms\n",
    "from datasets import load_dataset"
   ]
  },
  {
   "cell_type": "code",
   "execution_count": 14,
   "metadata": {},
   "outputs": [],
   "source": [
    "class EEG_Dataset(Dataset):\n",
    "    def __init__(self, dataset):\n",
    "        data_df = dataset.to_pandas()\n",
    "        features_names = list(data_df.columns)[1:]\n",
    "        self.electrodes = list(set([f.split(\"-\")[0] for f in features_names]))\n",
    "        self.nb_channel = len(self.electrodes)\n",
    "        self.nb_samples = (max([int(f.split(\"-\")[1]) for f in features_names]))+1\n",
    "        self.datas = self._norm(data_df)\n",
    "        self.features = self.datas[:,1:]\n",
    "        self.labels = list(self.datas[:,0].astype(int))\n",
    "\n",
    "\n",
    "    def _norm(self, data_df):\n",
    "        electrodes_mean = {}\n",
    "        electrodes_stds = {}\n",
    "        for electrode in self.electrodes :\n",
    "            electrodes_mean[electrode] = data_df[[f'{electrode}-{i}'for i in range(self.nb_samples)]].to_numpy().reshape(-1,).mean()\n",
    "            electrodes_stds[electrode] = data_df[[f'{electrode}-{i}'for i in range(self.nb_samples)]].to_numpy().reshape(-1,).std()\n",
    "        electrodes_mean, electrodes_stds\n",
    "\n",
    "        for electrode in self.electrodes:\n",
    "            data_df[[f'{electrode}-{i}'for i in range(self.nb_samples)]] = (data_df[[f'{electrode}-{i}'for i in range(self.nb_samples)]] - electrodes_mean[electrode])/electrodes_stds[electrode]\n",
    "        return data_df.to_numpy()\n",
    "\n",
    "\n",
    "    def __len__(self):\n",
    "        return len(self.labels)\n",
    "\n",
    "    def __getitem__(self, idx):\n",
    "        return torch.tensor(self.features[idx]).view(self.nb_channel,-1).float(), self.labels[idx]"
   ]
  },
  {
   "cell_type": "code",
   "execution_count": 3,
   "metadata": {},
   "outputs": [],
   "source": [
    "class UNetAutoencoder(pl.LightningModule):\n",
    "    def __init__(self, input_channels=5, sequence_length=256, latent_dim=64, dropout_rate=0.2, mask_ratio=0.15):\n",
    "        super(UNetAutoencoder, self).__init__()\n",
    "\n",
    "        self.input_channels = input_channels\n",
    "        self.sequence_length = sequence_length\n",
    "        self.mask_ratio = mask_ratio\n",
    "\n",
    "        # Encoder\n",
    "        self.enc1 = self.conv_block(input_channels, 32, dropout_rate)\n",
    "        self.enc2 = self.conv_block(32, 64, dropout_rate)\n",
    "        self.enc3 = self.conv_block(64, 128, dropout_rate)\n",
    "        self.enc4 = self.conv_block(128, 256, dropout_rate)\n",
    "\n",
    "        # Calculate the size of the encoder output\n",
    "        self.encoder_output_size = sequence_length // 16 * 256\n",
    "\n",
    "        # Latent space\n",
    "        self.fc1 = nn.Sequential(\n",
    "            nn.Linear(self.encoder_output_size, latent_dim),\n",
    "            nn.Dropout(dropout_rate)\n",
    "        )\n",
    "        self.fc2 = nn.Linear(latent_dim, self.encoder_output_size)\n",
    "\n",
    "        # Decoder\n",
    "        self.dec4 = self.conv_block(256, 128, dropout_rate, transpose=True)\n",
    "        self.dec3 = self.conv_block(256, 64, dropout_rate, transpose=True)\n",
    "        self.dec2 = self.conv_block(128, 32, dropout_rate, transpose=True)\n",
    "        self.dec1 = nn.ConvTranspose1d(64, input_channels, kernel_size=3, stride=2, padding=1, output_padding=1)\n",
    "\n",
    "        self.criterion = nn.MSELoss()\n",
    "\n",
    "    def conv_block(self, in_channels, out_channels, dropout_rate, transpose=False):\n",
    "        if not transpose:\n",
    "            return nn.Sequential(\n",
    "                nn.Conv1d(in_channels, out_channels, kernel_size=3, stride=2, padding=1),\n",
    "                nn.BatchNorm1d(out_channels),\n",
    "                nn.ReLU(),\n",
    "                nn.Dropout(dropout_rate),\n",
    "                nn.Conv1d(out_channels, out_channels, kernel_size=3, padding=1),\n",
    "                nn.BatchNorm1d(out_channels),\n",
    "                nn.ReLU(),\n",
    "                nn.Dropout(dropout_rate)\n",
    "            )\n",
    "        else:\n",
    "            return nn.Sequential(\n",
    "                nn.ConvTranspose1d(in_channels, out_channels, kernel_size=3, stride=2, padding=1, output_padding=1),\n",
    "                nn.BatchNorm1d(out_channels),\n",
    "                nn.ReLU(),\n",
    "                nn.Dropout(dropout_rate),\n",
    "                nn.Conv1d(out_channels, out_channels, kernel_size=3, padding=1),\n",
    "                nn.BatchNorm1d(out_channels),\n",
    "                nn.ReLU(),\n",
    "                nn.Dropout(dropout_rate)\n",
    "            )\n",
    "\n",
    "    def forward(self, x):\n",
    "        # Encoder\n",
    "        e1 = self.enc1(x)\n",
    "        e2 = self.enc2(e1)\n",
    "        e3 = self.enc3(e2)\n",
    "        e4 = self.enc4(e3)\n",
    "\n",
    "        # Flatten\n",
    "        x = e4.view(e4.size(0), -1)\n",
    "\n",
    "        # Latent space\n",
    "        x = self.fc1(x)\n",
    "        x = self.fc2(x)\n",
    "\n",
    "        # Reshape for decoder\n",
    "        x = x.view(x.size(0), 256, -1)\n",
    "\n",
    "        # Decoder with skip connections\n",
    "        x = self.dec4(x)\n",
    "        x = torch.cat([x, e3], dim=1)\n",
    "        x = self.dec3(x)\n",
    "        x = torch.cat([x, e2], dim=1)\n",
    "        x = self.dec2(x)\n",
    "        x = torch.cat([x, e1], dim=1)\n",
    "        x = self.dec1(x)\n",
    "\n",
    "        return x\n",
    "\n",
    "    def get_encoder(self):\n",
    "        return nn.Sequential(\n",
    "            self.enc1, self.enc2, self.enc3, self.enc4,\n",
    "            nn.Flatten(),\n",
    "            self.fc1\n",
    "        )\n",
    "\n",
    "    def apply_mask(self, x):\n",
    "        batch_size, _, _ = x.shape\n",
    "        mask = torch.rand(batch_size, self.input_channels, self.sequence_length, device=x.device) > self.mask_ratio\n",
    "        return x * mask, mask\n",
    "\n",
    "    def training_step(self, batch, batch_idx):\n",
    "        x, _ = batch\n",
    "        x_masked, mask = self.apply_mask(x)\n",
    "        x_hat = self.forward(x_masked)\n",
    "        loss = self.criterion(x_hat * mask, x * mask)  # Compute loss only on unmasked parts\n",
    "        self.log(\"train_loss\", loss, on_step=True, on_epoch=True, prog_bar=True)\n",
    "        return loss\n",
    "\n",
    "    def validation_step(self, batch, batch_idx):\n",
    "        x, _ = batch\n",
    "        x_masked, mask = self.apply_mask(x)\n",
    "        x_hat = self.forward(x_masked)\n",
    "        loss = self.criterion(x_hat * mask, x * mask)  # Compute loss only on unmasked parts\n",
    "        self.log(\"val_loss\", loss, on_step=False, on_epoch=True, prog_bar=True)\n",
    "        return loss\n",
    "\n",
    "    def configure_optimizers(self):\n",
    "        optimizer = torch.optim.Adam(self.parameters(), lr=1e-3)\n",
    "        scheduler = torch.optim.lr_scheduler.ReduceLROnPlateau(optimizer, mode='min', factor=0.5, patience=5, verbose=True)\n",
    "        return {\n",
    "            \"optimizer\": optimizer,\n",
    "            \"lr_scheduler\": {\n",
    "                \"scheduler\": scheduler,\n",
    "                \"monitor\": \"val_loss\",\n",
    "            },\n",
    "        }"
   ]
  },
  {
   "cell_type": "code",
   "execution_count": 4,
   "metadata": {},
   "outputs": [],
   "source": [
    "class ResidualBlock(nn.Module):\n",
    "    def __init__(self, in_channels, out_channels, downsample=False):\n",
    "        super(ResidualBlock, self).__init__()\n",
    "        stride = 2 if downsample else 1\n",
    "        self.conv1 = nn.Conv1d(in_channels, out_channels, kernel_size=3, stride=stride, padding=1)\n",
    "        self.norm1 = nn.BatchNorm1d(out_channels)\n",
    "        self.mish = nn.Mish()\n",
    "        \n",
    "        self.conv2 = nn.Conv1d(out_channels, out_channels, kernel_size=3, stride=1, padding=1)\n",
    "        self.norm2 = nn.BatchNorm1d(out_channels)\n",
    "        \n",
    "        # Skip connection\n",
    "        self.downsample = downsample\n",
    "        if downsample or in_channels != out_channels:\n",
    "            self.skip = nn.Sequential(\n",
    "                nn.Conv1d(in_channels, out_channels, kernel_size=1, stride=stride),\n",
    "                nn.BatchNorm1d(out_channels)\n",
    "            )\n",
    "        else:\n",
    "            self.skip = nn.Identity()\n",
    "\n",
    "    def forward(self, x):\n",
    "        identity = self.skip(x)\n",
    "        out = self.mish(self.norm1(self.conv1(x)))\n",
    "        out = self.norm2(self.conv2(out))\n",
    "        out += identity\n",
    "        return self.mish(out)\n",
    "\n",
    "class ResNetClassifier(pl.LightningModule):\n",
    "    def __init__(self, input_channels=5, sequence_length=256, num_classes=10, dropout_rate=0.5):  # Higher dropout\n",
    "        super(ResNetClassifier, self).__init__()\n",
    "        \n",
    "        # Initial layer\n",
    "        self.initial_conv = nn.Sequential(\n",
    "            nn.Conv1d(input_channels, 16, kernel_size=7, stride=2, padding=3),\n",
    "            nn.BatchNorm1d(16),\n",
    "            nn.Mish(),\n",
    "            nn.MaxPool1d(kernel_size=3, stride=2, padding=1)\n",
    "        )\n",
    "        \n",
    "        # Reduced Residual Blocks\n",
    "        self.layer1 = ResidualBlock(16, 32, downsample=True)\n",
    "        self.layer2 = ResidualBlock(32, 64, downsample=True)\n",
    "        \n",
    "        # Calculate size before FC layers\n",
    "        reduced_length = sequence_length // 4\n",
    "        self.fc_input_size = 1024\n",
    "        \n",
    "        # Fully connected layers with residual connection\n",
    "        self.fc1 = nn.Sequential(\n",
    "            nn.Flatten(),\n",
    "            nn.Linear(self.fc_input_size, 256),  # Reduced size\n",
    "            nn.Mish(),\n",
    "            nn.Dropout(dropout_rate)\n",
    "        )\n",
    "        \n",
    "        self.fc2 = nn.Sequential(\n",
    "            nn.Linear(256, 256),  # Reduced size\n",
    "            nn.Mish(),\n",
    "            nn.Dropout(dropout_rate)\n",
    "        )\n",
    "        \n",
    "        # Output layer\n",
    "        self.classifier = nn.Linear(256, num_classes)\n",
    "        \n",
    "        self.criterion = nn.CrossEntropyLoss()\n",
    "\n",
    "    def forward(self, x):\n",
    "        x = self.initial_conv(x)\n",
    "        x = self.layer1(x)\n",
    "        x = self.layer2(x)\n",
    "        \n",
    "        # Residual connection in fully connected layers\n",
    "        x = self.fc1(x)\n",
    "        x = x + self.fc2(x)\n",
    "        logits = self.classifier(x)\n",
    "        \n",
    "        return logits\n",
    "\n",
    "    def training_step(self, batch, batch_idx):\n",
    "        x, y = batch\n",
    "        logits = self(x)\n",
    "        loss = self.criterion(logits, y)\n",
    "        accuracy = (logits.argmax(dim=1) == y).float().mean()\n",
    "        self.log(\"train_loss\", loss, on_step=True, on_epoch=True, prog_bar=True)\n",
    "        self.log(\"train_accuracy\", accuracy, on_step=True, on_epoch=True, prog_bar=True)\n",
    "        return loss\n",
    "\n",
    "    def validation_step(self, batch, batch_idx):\n",
    "        x, y = batch\n",
    "        logits = self(x)\n",
    "        loss = self.criterion(logits, y)\n",
    "        accuracy = (logits.argmax(dim=1) == y).float().mean()\n",
    "        self.log(\"val_loss\", loss, on_step=False, on_epoch=True, prog_bar=True)\n",
    "        self.log(\"val_accuracy\", accuracy, on_step=False, on_epoch=True, prog_bar=True)\n",
    "        return loss\n",
    "\n",
    "    def configure_optimizers(self):\n",
    "        optimizer = torch.optim.AdamW(self.parameters(), lr=0.01, weight_decay=1e-3)\n",
    "        \n",
    "        # Cosine Annealing Scheduler\n",
    "        scheduler = torch.optim.lr_scheduler.CosineAnnealingLR(optimizer, T_max=50)\n",
    "        \n",
    "        return [optimizer], [scheduler]\n"
   ]
  },
  {
   "cell_type": "code",
   "execution_count": 5,
   "metadata": {},
   "outputs": [],
   "source": [
    "class CNNClassifier(pl.LightningModule):\n",
    "    def __init__(self, input_channels=5, sequence_length=256, num_classes=10, dropout_rate=0.2):\n",
    "        super(CNNClassifier, self).__init__()\n",
    "        \n",
    "        # Layer 1: Conv + LeakyReLU\n",
    "        self.conv1 = nn.Conv1d(input_channels, 5, kernel_size=5, stride=1, padding=2)\n",
    "        self.leaky1 = nn.LeakyReLU(negative_slope=0.1)\n",
    "        self.norm1 = nn.BatchNorm1d(5)\n",
    "        \n",
    "        # Layer 3: Conv + LeakyReLU\n",
    "        self.conv2 = nn.Conv1d(5, 3, kernel_size=5, stride=1, padding=2)\n",
    "        self.leaky2 = nn.LeakyReLU(negative_slope=0.1)\n",
    "        self.norm2 = nn.BatchNorm1d(3)\n",
    "        \n",
    "        # Layer 5: Conv + LeakyReLU\n",
    "        self.conv3 = nn.Conv1d(3, 3, kernel_size=5, stride=1, padding=2)\n",
    "        self.leaky3 = nn.LeakyReLU(negative_slope=0.1)\n",
    "        self.norm3 = nn.BatchNorm1d(3)\n",
    "        \n",
    "        # Calculate size before FC layers\n",
    "        self.fc_input_size = 3 * sequence_length  # 10 channels * sequence_length\n",
    "        \n",
    "        # Layer 7: Full-connected\n",
    "        self.fc1 = nn.Sequential(\n",
    "            nn.Flatten(),\n",
    "            nn.Linear(self.fc_input_size, self.fc_input_size),\n",
    "            nn.LeakyReLU(negative_slope=0.1),\n",
    "            nn.Dropout(dropout_rate)\n",
    "        )\n",
    "        \n",
    "        # Layer 8: Full-connected\n",
    "        self.fc2 = nn.Sequential(\n",
    "            nn.Linear(self.fc_input_size, self.fc_input_size//4),\n",
    "            nn.LeakyReLU(negative_slope=0.1),\n",
    "            nn.Dropout(dropout_rate)\n",
    "        )\n",
    "        \n",
    "        # Output layer\n",
    "        self.classifier = nn.Linear(self.fc_input_size//4, num_classes)\n",
    "        \n",
    "        self.criterion = nn.CrossEntropyLoss()\n",
    "\n",
    "    def forward(self, x):\n",
    "        # Convolutional layers\n",
    "        x = self.conv1(x)\n",
    "        x = self.leaky1(x)\n",
    "        x = self.norm1(x)\n",
    "        \n",
    "        x = self.conv2(x)\n",
    "        x = self.leaky2(x)\n",
    "        x = self.norm2(x)\n",
    "        \n",
    "        x = self.conv3(x)\n",
    "        x = self.leaky3(x)\n",
    "        x = self.norm3(x)\n",
    "        \n",
    "        # Fully connected layers\n",
    "        x = self.fc1(x)\n",
    "        x = self.fc2(x)\n",
    "        \n",
    "        # Classification head\n",
    "        logits = self.classifier(x)\n",
    "        \n",
    "        return logits\n",
    "\n",
    "    def training_step(self, batch, batch_idx):\n",
    "        x, y = batch\n",
    "        logits = self(x)\n",
    "        loss = self.criterion(logits, y)\n",
    "        accuracy = (logits.argmax(dim=1) == y).float().mean()\n",
    "        self.log(\"train_loss\", loss, on_step=True, on_epoch=True, prog_bar=True)\n",
    "        self.log(\"train_accuracy\", accuracy, on_step=True, on_epoch=True, prog_bar=True)\n",
    "        return loss\n",
    "\n",
    "    def validation_step(self, batch, batch_idx):\n",
    "        x, y = batch\n",
    "        logits = self(x)\n",
    "        loss = self.criterion(logits, y)\n",
    "        accuracy = (logits.argmax(dim=1) == y).float().mean()\n",
    "        self.log(\"val_loss\", loss, on_step=False, on_epoch=True, prog_bar=True)\n",
    "        self.log(\"val_accuracy\", accuracy, on_step=False, on_epoch=True, prog_bar=True)\n",
    "        return loss\n",
    "\n",
    "    def configure_optimizers(self):\n",
    "        optimizer = torch.optim.Adam(self.parameters(), lr=1e-3)\n",
    "        scheduler = torch.optim.lr_scheduler.ReduceLROnPlateau(\n",
    "            optimizer, mode='min', factor=0.5, patience=5, verbose=True\n",
    "        )\n",
    "        return {\n",
    "            \"optimizer\": optimizer,\n",
    "            \"lr_scheduler\": {\n",
    "                \"scheduler\": scheduler,\n",
    "                \"monitor\": \"val_loss\",\n",
    "            },\n",
    "        }"
   ]
  },
  {
   "cell_type": "code",
   "execution_count": 6,
   "metadata": {},
   "outputs": [],
   "source": [
    "class MNISTClassifier(pl.LightningModule):\n",
    "    def __init__(self, latent_dim=64, num_classes=10):\n",
    "        super(MNISTClassifier, self).__init__()\n",
    "        \n",
    "        self.feature_extractor = nn.Sequential(\n",
    "            nn.Conv2d(1, 32, kernel_size=3, stride=2, padding=1),\n",
    "            nn.ReLU(),\n",
    "            nn.Conv2d(32, 64, kernel_size=3, stride=2, padding=1),\n",
    "            nn.ReLU(),\n",
    "            nn.Flatten(),\n",
    "            nn.Linear(64 * 7 * 7, latent_dim)\n",
    "        )\n",
    "        \n",
    "        self.classifier = nn.Linear(latent_dim, num_classes)\n",
    "        self.criterion = nn.CrossEntropyLoss()\n",
    "\n",
    "    def forward(self, x):\n",
    "        features = self.feature_extractor(x)\n",
    "        return self.classifier(features), features\n",
    "\n",
    "    def training_step(self, batch, batch_idx):\n",
    "        x, y = batch\n",
    "        logits, _ = self(x)\n",
    "        loss = self.criterion(logits, y)\n",
    "        self.log(\"train_loss\", loss)\n",
    "        return loss\n",
    "\n",
    "    def validation_step(self, batch, batch_idx):\n",
    "        x, y = batch\n",
    "        logits, _ = self(x)\n",
    "        loss = self.criterion(logits, y)\n",
    "        acc = (logits.argmax(dim=1) == y).float().mean()\n",
    "        self.log(\"val_loss\", loss)\n",
    "        self.log(\"val_acc\", acc)\n",
    "\n",
    "    def configure_optimizers(self):\n",
    "        return torch.optim.Adam(self.parameters(), lr=1e-3)"
   ]
  },
  {
   "cell_type": "code",
   "execution_count": 7,
   "metadata": {},
   "outputs": [],
   "source": [
    "class EncodedDataset:\n",
    "    def __init__(self, dataloader, encoder):\n",
    "        super().__init__()\n",
    "        self.encoded_datas, self.labels = self._encode_dataset(dataloader, encoder)\n",
    "\n",
    "    def _encode_dataset(self, dataloader, encoder):\n",
    "        encoded_datas = []\n",
    "        labels = []\n",
    "        for batch in dataloader:\n",
    "            encoded_data = encoder(batch[0]).detach()\n",
    "            encoded_datas.append(encoded_data)\n",
    "            labels.append(batch[1])\n",
    "        encoded_datas = torch.cat(encoded_datas)\n",
    "        labels = torch.cat(labels)\n",
    "        return encoded_datas, labels\n",
    "\n",
    "    def __len__(self):\n",
    "        return len(self.labels)\n",
    "\n",
    "    def __getitem__(self, idx):\n",
    "        return self.encoded_datas[idx], self.labels[idx].item()\n"
   ]
  },
  {
   "cell_type": "code",
   "execution_count": 8,
   "metadata": {},
   "outputs": [],
   "source": [
    "class LatentDataset(torch.utils.data.Dataset):\n",
    "    def __init__(self, eeg_data, mnist_data):\n",
    "        self.paired_data = self._pair_data(eeg_data, mnist_data)\n",
    "\n",
    "    def _pair_data(self, eeg_data, mnist_data):\n",
    "        eeg_by_label = {i: [] for i in range(10)}\n",
    "        mnist_by_label = {i: [] for i in range(10)}\n",
    "\n",
    "        # Group EEG data by label\n",
    "        for eeg, label in eeg_data: \n",
    "            if 0 <= label < 10:\n",
    "                eeg_by_label[label].append(eeg)\n",
    "\n",
    "        # Group MNIST data by label\n",
    "        for img, label in mnist_data:\n",
    "            mnist_by_label[label].append(img)\n",
    "\n",
    "        # Pair EEG and MNIST data\n",
    "        paired_data = []\n",
    "        for label in eeg_by_label.keys():\n",
    "            eeg_samples = eeg_by_label[label]\n",
    "            mnist_samples = mnist_by_label[label]\n",
    "\n",
    "            # Use the maximum number of samples available\n",
    "            n_samples = max(len(eeg_samples), len(mnist_samples))\n",
    "\n",
    "            # Replicate samples if necessary\n",
    "            if len(eeg_samples) < n_samples:\n",
    "                eeg_samples = self._replicate_samples(eeg_samples, n_samples)\n",
    "            if len(mnist_samples) < n_samples:\n",
    "                mnist_samples = self._replicate_samples(mnist_samples, n_samples)\n",
    "\n",
    "            for eeg, mnist in zip(eeg_samples, mnist_samples):\n",
    "                paired_data.append((eeg, mnist, label))\n",
    "\n",
    "        return paired_data\n",
    "\n",
    "    def _replicate_samples(self, samples, target_size):\n",
    "        \"\"\"Replicate samples randomly to reach the target size.\"\"\"\n",
    "        while len(samples) < target_size:\n",
    "            samples.append(random.choice(samples))\n",
    "        return samples\n",
    "\n",
    "    def __len__(self):\n",
    "        return len(self.paired_data)\n",
    "\n",
    "    def __getitem__(self, idx):\n",
    "        return self.paired_data[idx]"
   ]
  },
  {
   "cell_type": "code",
   "execution_count": 9,
   "metadata": {},
   "outputs": [],
   "source": [
    "class LatentProjection(pl.LightningModule):\n",
    "    def __init__(self, eeg_latent_dim, mnist_latent_dim, hidden_dims=[256, 128]):\n",
    "        super(LatentProjection, self).__init__()\n",
    "        \n",
    "        layers = []\n",
    "        input_dim = eeg_latent_dim\n",
    "        \n",
    "        for hidden_dim in hidden_dims:\n",
    "            layers.extend([\n",
    "                nn.Linear(input_dim, hidden_dim),\n",
    "                nn.BatchNorm1d(hidden_dim),\n",
    "                nn.ReLU(),\n",
    "                nn.Dropout(0.2)\n",
    "            ])\n",
    "            input_dim = hidden_dim\n",
    "        \n",
    "        layers.append(nn.Linear(input_dim, mnist_latent_dim))\n",
    "        \n",
    "        self.projection = nn.Sequential(*layers)\n",
    "        self.criterion = nn.MSELoss()\n",
    "\n",
    "    def forward(self, x):\n",
    "        return self.projection(x)\n",
    "\n",
    "    def training_step(self, batch, batch_idx):\n",
    "        eeg_latent, mnist_latent, _ = batch\n",
    "        projected = self(eeg_latent)\n",
    "        loss = self.criterion(projected, mnist_latent)\n",
    "        self.log(\"train_loss\", loss, on_step=True, on_epoch=True, prog_bar=True)        \n",
    "        return loss\n",
    "\n",
    "    def validation_step(self, batch, batch_idx):\n",
    "        eeg_latent, mnist_latent, _ = batch\n",
    "        projected = self(eeg_latent)\n",
    "        val_loss = self.criterion(projected, mnist_latent)\n",
    "        self.log(\"val_loss\", val_loss, on_step=True, on_epoch=True, prog_bar=True)        \n",
    "        return val_loss\n",
    "\n",
    "    def configure_optimizers(self):\n",
    "        optimizer = torch.optim.Adam(self.parameters(), lr=1e-3)\n",
    "        scheduler = torch.optim.lr_scheduler.ReduceLROnPlateau(optimizer, mode='min', factor=0.5, patience=5, verbose=True)\n",
    "        return {\n",
    "            \"optimizer\": optimizer,\n",
    "            \"lr_scheduler\": {\n",
    "                \"scheduler\": scheduler,\n",
    "                \"monitor\": \"val_loss\",\n",
    "            },\n",
    "        }"
   ]
  },
  {
   "cell_type": "code",
   "execution_count": 10,
   "metadata": {},
   "outputs": [],
   "source": [
    "class LossTracker(Callback):\n",
    "    def __init__(self):\n",
    "        self.train_losses = []\n",
    "        self.val_losses = []\n",
    "\n",
    "    def on_train_epoch_end(self, trainer, pl_module):\n",
    "        self.train_losses.append(trainer.callback_metrics[\"train_loss\"].item())\n",
    "\n",
    "    def on_validation_epoch_end(self, trainer, pl_module):\n",
    "        self.val_losses.append(trainer.callback_metrics[\"val_loss\"].item())"
   ]
  },
  {
   "cell_type": "code",
   "execution_count": 11,
   "metadata": {},
   "outputs": [],
   "source": [
    "def plot_losses(train_losses, val_losses):\n",
    "    plt.figure(figsize=(10, 6))\n",
    "    plt.plot(train_losses, label='Training Loss')\n",
    "    plt.plot(val_losses, label='Validation Loss')\n",
    "    plt.xlabel('Epoch')\n",
    "    plt.ylabel('Loss')\n",
    "    plt.title('Training and Validation Loss over Epochs')\n",
    "    plt.legend()\n",
    "    plt.grid(True)\n",
    "    plt.show()\n",
    "\n",
    "    # Print final losses\n",
    "    print(f\"Final training loss: {train_losses[-1]}\")\n",
    "    print(f\"Final validation loss: {val_losses[-1]}\")"
   ]
  },
  {
   "cell_type": "markdown",
   "metadata": {},
   "source": [
    "## EEG"
   ]
  },
  {
   "cell_type": "code",
   "execution_count": 12,
   "metadata": {},
   "outputs": [],
   "source": [
    "train_dataset = load_dataset(\"DavidVivancos/MindBigData2022_MNIST_IN\", split=\"train\")"
   ]
  },
  {
   "cell_type": "code",
   "execution_count": 15,
   "metadata": {},
   "outputs": [],
   "source": [
    "full_eeg_dataset = EEG_Dataset(train_dataset)\n",
    "\n",
    "# Calculate sizes for train and validation sets\n",
    "total_size = len(full_eeg_dataset)\n",
    "train_size = int(0.8 * total_size)  # 80% for training\n",
    "val_size = total_size - train_size  # Remaining 20% for validation\n",
    "\n",
    "# Use random_split to create train and validation datasets\n",
    "train_eeg_dataset, val_eeg_dataset = random_split(full_eeg_dataset, [train_size, val_size], \n",
    "                                          generator=torch.Generator().manual_seed(42))"
   ]
  },
  {
   "cell_type": "code",
   "execution_count": 16,
   "metadata": {},
   "outputs": [
    {
     "data": {
      "text/plain": [
       "(tensor([[-0.2451, -0.3108,  0.0328,  ...,  0.5058,  0.1790,  0.2329],\n",
       "         [ 0.0604,  0.0798,  0.3864,  ...,  0.4360,  0.2447,  0.4457],\n",
       "         [ 0.3088,  0.3088,  0.5874,  ...,  0.1802, -0.0885,  0.0787],\n",
       "         [ 0.1117,  0.4341,  0.4958,  ...,  1.2423,  0.4476,  0.3456],\n",
       "         [ 0.5664,  0.7000,  0.8430,  ...,  0.5596,  0.4192,  0.3628]]),\n",
       " 6)"
      ]
     },
     "execution_count": 16,
     "metadata": {},
     "output_type": "execute_result"
    }
   ],
   "source": [
    "full_eeg_dataset[0]"
   ]
  },
  {
   "cell_type": "code",
   "execution_count": 17,
   "metadata": {},
   "outputs": [],
   "source": [
    "batch_size = 128\n",
    "eeg_train_dataloader = DataLoader(\n",
    "    dataset=train_eeg_dataset,\n",
    "    batch_size=batch_size,\n",
    "    shuffle=True,\n",
    ")\n",
    "\n",
    "eeg_val_dataloader = DataLoader(\n",
    "    dataset=val_eeg_dataset,\n",
    "    batch_size=batch_size,\n",
    "    shuffle=False,\n",
    ")"
   ]
  },
  {
   "cell_type": "code",
   "execution_count": 18,
   "metadata": {},
   "outputs": [],
   "source": [
    "latent_dim = 64"
   ]
  },
  {
   "cell_type": "code",
   "execution_count": null,
   "metadata": {},
   "outputs": [],
   "source": [
    "# checkpoint_path = \"lightning_logs/version_16/checkpoints/epoch=9-step=5220.ckpt\"\n",
    "# autoencoder = CNNAutoencoder.load_from_checkpoint(checkpoint_path)\n",
    "loss_tracker = LossTracker()\n",
    "autoencoder = UNetAutoencoder(latent_dim=latent_dim)\n",
    "trainer = Trainer(max_epochs=10, callbacks=[loss_tracker])\n",
    "trainer.fit(autoencoder, eeg_train_dataloader, eeg_val_dataloader)"
   ]
  },
  {
   "cell_type": "code",
   "execution_count": 18,
   "metadata": {},
   "outputs": [
    {
     "name": "stderr",
     "output_type": "stream",
     "text": [
      "GPU available: False, used: False\n",
      "TPU available: False, using: 0 TPU cores\n",
      "HPU available: False, using: 0 HPUs\n",
      "/home/zeus/miniconda3/envs/cloudspace/lib/python3.10/site-packages/torch/optim/lr_scheduler.py:28: UserWarning: The verbose parameter is deprecated. Please use get_last_lr() to access the learning rate.\n",
      "  warnings.warn(\"The verbose parameter is deprecated. Please use get_last_lr() \"\n",
      "\n",
      "   | Name       | Type             | Params | Mode \n",
      "---------------------------------------------------------\n",
      "0  | conv1      | Conv1d           | 130    | train\n",
      "1  | leaky1     | LeakyReLU        | 0      | train\n",
      "2  | norm1      | BatchNorm1d      | 10     | train\n",
      "3  | conv2      | Conv1d           | 78     | train\n",
      "4  | leaky2     | LeakyReLU        | 0      | train\n",
      "5  | norm2      | BatchNorm1d      | 6      | train\n",
      "6  | conv3      | Conv1d           | 48     | train\n",
      "7  | leaky3     | LeakyReLU        | 0      | train\n",
      "8  | norm3      | BatchNorm1d      | 6      | train\n",
      "9  | fc1        | Sequential       | 590 K  | train\n",
      "10 | fc2        | Sequential       | 147 K  | train\n",
      "11 | classifier | Linear           | 1.9 K  | train\n",
      "12 | criterion  | CrossEntropyLoss | 0      | train\n",
      "---------------------------------------------------------\n",
      "740 K     Trainable params\n",
      "0         Non-trainable params\n",
      "740 K     Total params\n",
      "2.962     Total estimated model params size (MB)\n",
      "20        Modules in train mode\n",
      "0         Modules in eval mode\n"
     ]
    },
    {
     "data": {
      "application/vnd.jupyter.widget-view+json": {
       "model_id": "0354a0286c1e4acea1fd128b23732783",
       "version_major": 2,
       "version_minor": 0
      },
      "text/plain": [
       "Sanity Checking: |          | 0/? [00:00<?, ?it/s]"
      ]
     },
     "metadata": {},
     "output_type": "display_data"
    },
    {
     "name": "stderr",
     "output_type": "stream",
     "text": [
      "/home/zeus/miniconda3/envs/cloudspace/lib/python3.10/site-packages/pytorch_lightning/trainer/connectors/data_connector.py:424: The 'val_dataloader' does not have many workers which may be a bottleneck. Consider increasing the value of the `num_workers` argument` to `num_workers=3` in the `DataLoader` to improve performance.\n",
      "/home/zeus/miniconda3/envs/cloudspace/lib/python3.10/site-packages/pytorch_lightning/trainer/connectors/data_connector.py:424: The 'train_dataloader' does not have many workers which may be a bottleneck. Consider increasing the value of the `num_workers` argument` to `num_workers=3` in the `DataLoader` to improve performance.\n"
     ]
    },
    {
     "data": {
      "application/vnd.jupyter.widget-view+json": {
       "model_id": "a0d2d69f50e2440681599c794f994f25",
       "version_major": 2,
       "version_minor": 0
      },
      "text/plain": [
       "Training: |          | 0/? [00:00<?, ?it/s]"
      ]
     },
     "metadata": {},
     "output_type": "display_data"
    },
    {
     "data": {
      "application/vnd.jupyter.widget-view+json": {
       "model_id": "c07e9c633f254c068d1e0143d6de629c",
       "version_major": 2,
       "version_minor": 0
      },
      "text/plain": [
       "Validation: |          | 0/? [00:00<?, ?it/s]"
      ]
     },
     "metadata": {},
     "output_type": "display_data"
    },
    {
     "data": {
      "application/vnd.jupyter.widget-view+json": {
       "model_id": "ce13bf4178f343a8aa9c2a58c056f402",
       "version_major": 2,
       "version_minor": 0
      },
      "text/plain": [
       "Validation: |          | 0/? [00:00<?, ?it/s]"
      ]
     },
     "metadata": {},
     "output_type": "display_data"
    },
    {
     "data": {
      "application/vnd.jupyter.widget-view+json": {
       "model_id": "92c69a266fbd49f799efe1f6220d150b",
       "version_major": 2,
       "version_minor": 0
      },
      "text/plain": [
       "Validation: |          | 0/? [00:00<?, ?it/s]"
      ]
     },
     "metadata": {},
     "output_type": "display_data"
    },
    {
     "data": {
      "application/vnd.jupyter.widget-view+json": {
       "model_id": "4a18dbfb94084f679a0f567ee2351645",
       "version_major": 2,
       "version_minor": 0
      },
      "text/plain": [
       "Validation: |          | 0/? [00:00<?, ?it/s]"
      ]
     },
     "metadata": {},
     "output_type": "display_data"
    },
    {
     "data": {
      "application/vnd.jupyter.widget-view+json": {
       "model_id": "cf177f40a19442728fb2ebb76198153a",
       "version_major": 2,
       "version_minor": 0
      },
      "text/plain": [
       "Validation: |          | 0/? [00:00<?, ?it/s]"
      ]
     },
     "metadata": {},
     "output_type": "display_data"
    },
    {
     "data": {
      "application/vnd.jupyter.widget-view+json": {
       "model_id": "6d5b2647bd1542b5887e2639338e1d2c",
       "version_major": 2,
       "version_minor": 0
      },
      "text/plain": [
       "Validation: |          | 0/? [00:00<?, ?it/s]"
      ]
     },
     "metadata": {},
     "output_type": "display_data"
    },
    {
     "data": {
      "application/vnd.jupyter.widget-view+json": {
       "model_id": "638be37d9b3040958fce288416919808",
       "version_major": 2,
       "version_minor": 0
      },
      "text/plain": [
       "Validation: |          | 0/? [00:00<?, ?it/s]"
      ]
     },
     "metadata": {},
     "output_type": "display_data"
    },
    {
     "data": {
      "application/vnd.jupyter.widget-view+json": {
       "model_id": "6a9559686e95466295d4286883251beb",
       "version_major": 2,
       "version_minor": 0
      },
      "text/plain": [
       "Validation: |          | 0/? [00:00<?, ?it/s]"
      ]
     },
     "metadata": {},
     "output_type": "display_data"
    },
    {
     "data": {
      "application/vnd.jupyter.widget-view+json": {
       "model_id": "093c8a7778db4e9a8aae77f3ef7f07c8",
       "version_major": 2,
       "version_minor": 0
      },
      "text/plain": [
       "Validation: |          | 0/? [00:00<?, ?it/s]"
      ]
     },
     "metadata": {},
     "output_type": "display_data"
    },
    {
     "data": {
      "application/vnd.jupyter.widget-view+json": {
       "model_id": "162d4357ab294b9bbd5eeefda414cbc5",
       "version_major": 2,
       "version_minor": 0
      },
      "text/plain": [
       "Validation: |          | 0/? [00:00<?, ?it/s]"
      ]
     },
     "metadata": {},
     "output_type": "display_data"
    },
    {
     "data": {
      "application/vnd.jupyter.widget-view+json": {
       "model_id": "00eeec40ab4648cdbbca74e38669d987",
       "version_major": 2,
       "version_minor": 0
      },
      "text/plain": [
       "Validation: |          | 0/? [00:00<?, ?it/s]"
      ]
     },
     "metadata": {},
     "output_type": "display_data"
    },
    {
     "data": {
      "application/vnd.jupyter.widget-view+json": {
       "model_id": "254aaf3796404f37b7d8f3f213849358",
       "version_major": 2,
       "version_minor": 0
      },
      "text/plain": [
       "Validation: |          | 0/? [00:00<?, ?it/s]"
      ]
     },
     "metadata": {},
     "output_type": "display_data"
    },
    {
     "data": {
      "application/vnd.jupyter.widget-view+json": {
       "model_id": "508785fadb9e4ca3b2c771c993144488",
       "version_major": 2,
       "version_minor": 0
      },
      "text/plain": [
       "Validation: |          | 0/? [00:00<?, ?it/s]"
      ]
     },
     "metadata": {},
     "output_type": "display_data"
    },
    {
     "data": {
      "application/vnd.jupyter.widget-view+json": {
       "model_id": "147471d5b3de4f55b1798cf3df4ce49a",
       "version_major": 2,
       "version_minor": 0
      },
      "text/plain": [
       "Validation: |          | 0/? [00:00<?, ?it/s]"
      ]
     },
     "metadata": {},
     "output_type": "display_data"
    },
    {
     "data": {
      "application/vnd.jupyter.widget-view+json": {
       "model_id": "13784aecce8a4e1882f52e5cccbc2df5",
       "version_major": 2,
       "version_minor": 0
      },
      "text/plain": [
       "Validation: |          | 0/? [00:00<?, ?it/s]"
      ]
     },
     "metadata": {},
     "output_type": "display_data"
    },
    {
     "data": {
      "application/vnd.jupyter.widget-view+json": {
       "model_id": "72d07f77695b43e6bb921d7c5e53cd57",
       "version_major": 2,
       "version_minor": 0
      },
      "text/plain": [
       "Validation: |          | 0/? [00:00<?, ?it/s]"
      ]
     },
     "metadata": {},
     "output_type": "display_data"
    },
    {
     "data": {
      "application/vnd.jupyter.widget-view+json": {
       "model_id": "4477a270de394f58899f2ec4c4a6395a",
       "version_major": 2,
       "version_minor": 0
      },
      "text/plain": [
       "Validation: |          | 0/? [00:00<?, ?it/s]"
      ]
     },
     "metadata": {},
     "output_type": "display_data"
    },
    {
     "data": {
      "application/vnd.jupyter.widget-view+json": {
       "model_id": "238d039d591047fbb7e1df4f3904eb31",
       "version_major": 2,
       "version_minor": 0
      },
      "text/plain": [
       "Validation: |          | 0/? [00:00<?, ?it/s]"
      ]
     },
     "metadata": {},
     "output_type": "display_data"
    },
    {
     "data": {
      "application/vnd.jupyter.widget-view+json": {
       "model_id": "b2fe51574b8141b4a16771ada86b35d0",
       "version_major": 2,
       "version_minor": 0
      },
      "text/plain": [
       "Validation: |          | 0/? [00:00<?, ?it/s]"
      ]
     },
     "metadata": {},
     "output_type": "display_data"
    },
    {
     "data": {
      "application/vnd.jupyter.widget-view+json": {
       "model_id": "9439b054dfd74f74b7d08718bb493b57",
       "version_major": 2,
       "version_minor": 0
      },
      "text/plain": [
       "Validation: |          | 0/? [00:00<?, ?it/s]"
      ]
     },
     "metadata": {},
     "output_type": "display_data"
    },
    {
     "data": {
      "application/vnd.jupyter.widget-view+json": {
       "model_id": "1400c1c075e94025afd15268299f0566",
       "version_major": 2,
       "version_minor": 0
      },
      "text/plain": [
       "Validation: |          | 0/? [00:00<?, ?it/s]"
      ]
     },
     "metadata": {},
     "output_type": "display_data"
    },
    {
     "data": {
      "application/vnd.jupyter.widget-view+json": {
       "model_id": "ef1fab8ea78d4ad6b2950ada5324e6e1",
       "version_major": 2,
       "version_minor": 0
      },
      "text/plain": [
       "Validation: |          | 0/? [00:00<?, ?it/s]"
      ]
     },
     "metadata": {},
     "output_type": "display_data"
    },
    {
     "data": {
      "application/vnd.jupyter.widget-view+json": {
       "model_id": "d8eff8ae71ed46b2bee127044c823f05",
       "version_major": 2,
       "version_minor": 0
      },
      "text/plain": [
       "Validation: |          | 0/? [00:00<?, ?it/s]"
      ]
     },
     "metadata": {},
     "output_type": "display_data"
    },
    {
     "data": {
      "application/vnd.jupyter.widget-view+json": {
       "model_id": "f3fea878950d4f1b81355877dcfaaac1",
       "version_major": 2,
       "version_minor": 0
      },
      "text/plain": [
       "Validation: |          | 0/? [00:00<?, ?it/s]"
      ]
     },
     "metadata": {},
     "output_type": "display_data"
    },
    {
     "data": {
      "application/vnd.jupyter.widget-view+json": {
       "model_id": "b45b0a892ea840658f34bc02f4c5ce0d",
       "version_major": 2,
       "version_minor": 0
      },
      "text/plain": [
       "Validation: |          | 0/? [00:00<?, ?it/s]"
      ]
     },
     "metadata": {},
     "output_type": "display_data"
    },
    {
     "data": {
      "application/vnd.jupyter.widget-view+json": {
       "model_id": "5e305c508bdd4e38bc77069603ae7d95",
       "version_major": 2,
       "version_minor": 0
      },
      "text/plain": [
       "Validation: |          | 0/? [00:00<?, ?it/s]"
      ]
     },
     "metadata": {},
     "output_type": "display_data"
    },
    {
     "data": {
      "application/vnd.jupyter.widget-view+json": {
       "model_id": "9dd96e813aad4307b06c4c7d0b73446f",
       "version_major": 2,
       "version_minor": 0
      },
      "text/plain": [
       "Validation: |          | 0/? [00:00<?, ?it/s]"
      ]
     },
     "metadata": {},
     "output_type": "display_data"
    },
    {
     "data": {
      "application/vnd.jupyter.widget-view+json": {
       "model_id": "f24b001c38b244bda078dc4638a65bb6",
       "version_major": 2,
       "version_minor": 0
      },
      "text/plain": [
       "Validation: |          | 0/? [00:00<?, ?it/s]"
      ]
     },
     "metadata": {},
     "output_type": "display_data"
    },
    {
     "data": {
      "application/vnd.jupyter.widget-view+json": {
       "model_id": "3e102e9e18894839ac0ee1a4f8425fdd",
       "version_major": 2,
       "version_minor": 0
      },
      "text/plain": [
       "Validation: |          | 0/? [00:00<?, ?it/s]"
      ]
     },
     "metadata": {},
     "output_type": "display_data"
    },
    {
     "data": {
      "application/vnd.jupyter.widget-view+json": {
       "model_id": "75a836c32fef42de97b6f3cacb367060",
       "version_major": 2,
       "version_minor": 0
      },
      "text/plain": [
       "Validation: |          | 0/? [00:00<?, ?it/s]"
      ]
     },
     "metadata": {},
     "output_type": "display_data"
    },
    {
     "data": {
      "application/vnd.jupyter.widget-view+json": {
       "model_id": "9ff3d906938d492caa867291f6981cf7",
       "version_major": 2,
       "version_minor": 0
      },
      "text/plain": [
       "Validation: |          | 0/? [00:00<?, ?it/s]"
      ]
     },
     "metadata": {},
     "output_type": "display_data"
    },
    {
     "data": {
      "application/vnd.jupyter.widget-view+json": {
       "model_id": "dfe0f8a01cd240c688a91f71faec99c6",
       "version_major": 2,
       "version_minor": 0
      },
      "text/plain": [
       "Validation: |          | 0/? [00:00<?, ?it/s]"
      ]
     },
     "metadata": {},
     "output_type": "display_data"
    },
    {
     "data": {
      "application/vnd.jupyter.widget-view+json": {
       "model_id": "cf9f20faa7a54c5eac3cbc6c4c2c598f",
       "version_major": 2,
       "version_minor": 0
      },
      "text/plain": [
       "Validation: |          | 0/? [00:00<?, ?it/s]"
      ]
     },
     "metadata": {},
     "output_type": "display_data"
    },
    {
     "data": {
      "application/vnd.jupyter.widget-view+json": {
       "model_id": "ccd19fc60e8a43eba1a7d4bd6671c1c9",
       "version_major": 2,
       "version_minor": 0
      },
      "text/plain": [
       "Validation: |          | 0/? [00:00<?, ?it/s]"
      ]
     },
     "metadata": {},
     "output_type": "display_data"
    },
    {
     "data": {
      "application/vnd.jupyter.widget-view+json": {
       "model_id": "517e292514c7410395d10a76c522089f",
       "version_major": 2,
       "version_minor": 0
      },
      "text/plain": [
       "Validation: |          | 0/? [00:00<?, ?it/s]"
      ]
     },
     "metadata": {},
     "output_type": "display_data"
    },
    {
     "data": {
      "application/vnd.jupyter.widget-view+json": {
       "model_id": "0714eb6cb4af4da88c6328e72b1e87e1",
       "version_major": 2,
       "version_minor": 0
      },
      "text/plain": [
       "Validation: |          | 0/? [00:00<?, ?it/s]"
      ]
     },
     "metadata": {},
     "output_type": "display_data"
    },
    {
     "data": {
      "application/vnd.jupyter.widget-view+json": {
       "model_id": "db5d3b50f6224d889b87381a3b817250",
       "version_major": 2,
       "version_minor": 0
      },
      "text/plain": [
       "Validation: |          | 0/? [00:00<?, ?it/s]"
      ]
     },
     "metadata": {},
     "output_type": "display_data"
    },
    {
     "data": {
      "application/vnd.jupyter.widget-view+json": {
       "model_id": "f5bc407689aa49e090a291253b3339ab",
       "version_major": 2,
       "version_minor": 0
      },
      "text/plain": [
       "Validation: |          | 0/? [00:00<?, ?it/s]"
      ]
     },
     "metadata": {},
     "output_type": "display_data"
    },
    {
     "data": {
      "application/vnd.jupyter.widget-view+json": {
       "model_id": "b4bf15050a5443d4a0be438e34409a79",
       "version_major": 2,
       "version_minor": 0
      },
      "text/plain": [
       "Validation: |          | 0/? [00:00<?, ?it/s]"
      ]
     },
     "metadata": {},
     "output_type": "display_data"
    },
    {
     "data": {
      "application/vnd.jupyter.widget-view+json": {
       "model_id": "16efd2ad5b474182b88959215b17ad70",
       "version_major": 2,
       "version_minor": 0
      },
      "text/plain": [
       "Validation: |          | 0/? [00:00<?, ?it/s]"
      ]
     },
     "metadata": {},
     "output_type": "display_data"
    },
    {
     "data": {
      "application/vnd.jupyter.widget-view+json": {
       "model_id": "820a9c863b6d43f1a7ee05467aef8bea",
       "version_major": 2,
       "version_minor": 0
      },
      "text/plain": [
       "Validation: |          | 0/? [00:00<?, ?it/s]"
      ]
     },
     "metadata": {},
     "output_type": "display_data"
    },
    {
     "data": {
      "application/vnd.jupyter.widget-view+json": {
       "model_id": "1869f6d215dd4ea783fd5187013596ca",
       "version_major": 2,
       "version_minor": 0
      },
      "text/plain": [
       "Validation: |          | 0/? [00:00<?, ?it/s]"
      ]
     },
     "metadata": {},
     "output_type": "display_data"
    },
    {
     "data": {
      "application/vnd.jupyter.widget-view+json": {
       "model_id": "1352061d54bf4a359914eeda95dca2b1",
       "version_major": 2,
       "version_minor": 0
      },
      "text/plain": [
       "Validation: |          | 0/? [00:00<?, ?it/s]"
      ]
     },
     "metadata": {},
     "output_type": "display_data"
    },
    {
     "data": {
      "application/vnd.jupyter.widget-view+json": {
       "model_id": "fd3ad4f6357749ec9776c0d05cdcd171",
       "version_major": 2,
       "version_minor": 0
      },
      "text/plain": [
       "Validation: |          | 0/? [00:00<?, ?it/s]"
      ]
     },
     "metadata": {},
     "output_type": "display_data"
    },
    {
     "data": {
      "application/vnd.jupyter.widget-view+json": {
       "model_id": "2d18e559f2bb4276990cfb45c230a605",
       "version_major": 2,
       "version_minor": 0
      },
      "text/plain": [
       "Validation: |          | 0/? [00:00<?, ?it/s]"
      ]
     },
     "metadata": {},
     "output_type": "display_data"
    },
    {
     "data": {
      "application/vnd.jupyter.widget-view+json": {
       "model_id": "067a362bc1a84304be4762ece3707b50",
       "version_major": 2,
       "version_minor": 0
      },
      "text/plain": [
       "Validation: |          | 0/? [00:00<?, ?it/s]"
      ]
     },
     "metadata": {},
     "output_type": "display_data"
    },
    {
     "data": {
      "application/vnd.jupyter.widget-view+json": {
       "model_id": "16a62789a26c4bc5a8ebd490f7db2be4",
       "version_major": 2,
       "version_minor": 0
      },
      "text/plain": [
       "Validation: |          | 0/? [00:00<?, ?it/s]"
      ]
     },
     "metadata": {},
     "output_type": "display_data"
    },
    {
     "data": {
      "application/vnd.jupyter.widget-view+json": {
       "model_id": "400be12e80bc4c458b6d3f03bce47d59",
       "version_major": 2,
       "version_minor": 0
      },
      "text/plain": [
       "Validation: |          | 0/? [00:00<?, ?it/s]"
      ]
     },
     "metadata": {},
     "output_type": "display_data"
    },
    {
     "data": {
      "application/vnd.jupyter.widget-view+json": {
       "model_id": "17112c13cafa4be2afb7c65aadb55b10",
       "version_major": 2,
       "version_minor": 0
      },
      "text/plain": [
       "Validation: |          | 0/? [00:00<?, ?it/s]"
      ]
     },
     "metadata": {},
     "output_type": "display_data"
    },
    {
     "data": {
      "application/vnd.jupyter.widget-view+json": {
       "model_id": "6fca88d3b7584e8c9f489d5a4bde76ae",
       "version_major": 2,
       "version_minor": 0
      },
      "text/plain": [
       "Validation: |          | 0/? [00:00<?, ?it/s]"
      ]
     },
     "metadata": {},
     "output_type": "display_data"
    },
    {
     "name": "stderr",
     "output_type": "stream",
     "text": [
      "`Trainer.fit` stopped: `max_epochs=50` reached.\n"
     ]
    }
   ],
   "source": [
    "# checkpoint_path = \"lightning_logs/version_16/checkpoints/epoch=9-step=5220.ckpt\"\n",
    "# autoencoder = CNNAutoencoder.load_from_checkpoint(checkpoint_path)\n",
    "loss_tracker = LossTracker()\n",
    "autoencoder = CNNClassifier(input_channels=5, sequence_length=256)\n",
    "trainer = Trainer(max_epochs=50, callbacks=[loss_tracker])\n",
    "trainer.fit(autoencoder, eeg_train_dataloader, eeg_val_dataloader)"
   ]
  },
  {
   "cell_type": "code",
   "execution_count": null,
   "metadata": {},
   "outputs": [
    {
     "name": "stderr",
     "output_type": "stream",
     "text": [
      "GPU available: False, used: False\n",
      "TPU available: False, using: 0 TPU cores\n",
      "HPU available: False, using: 0 HPUs\n",
      "\n",
      "   | Name       | Type             | Params | Mode \n",
      "---------------------------------------------------------\n",
      "0  | conv1      | Conv1d           | 130    | train\n",
      "1  | leaky1     | LeakyReLU        | 0      | train\n",
      "2  | norm1      | BatchNorm1d      | 10     | train\n",
      "3  | conv2      | Conv1d           | 78     | train\n",
      "4  | leaky2     | LeakyReLU        | 0      | train\n",
      "5  | norm2      | BatchNorm1d      | 6      | train\n",
      "6  | conv3      | Conv1d           | 48     | train\n",
      "7  | leaky3     | LeakyReLU        | 0      | train\n",
      "8  | norm3      | BatchNorm1d      | 6      | train\n",
      "9  | fc1        | Sequential       | 590 K  | train\n",
      "10 | fc2        | Sequential       | 147 K  | train\n",
      "11 | classifier | Linear           | 1.9 K  | train\n",
      "12 | criterion  | CrossEntropyLoss | 0      | train\n",
      "---------------------------------------------------------\n",
      "740 K     Trainable params\n",
      "0         Non-trainable params\n",
      "740 K     Total params\n",
      "2.962     Total estimated model params size (MB)\n",
      "20        Modules in train mode\n",
      "0         Modules in eval mode\n"
     ]
    },
    {
     "data": {
      "application/vnd.jupyter.widget-view+json": {
       "model_id": "c685fc9c98c54f47874d2eb13dcd5c9a",
       "version_major": 2,
       "version_minor": 0
      },
      "text/plain": [
       "Sanity Checking: |          | 0/? [00:00<?, ?it/s]"
      ]
     },
     "metadata": {},
     "output_type": "display_data"
    },
    {
     "data": {
      "application/vnd.jupyter.widget-view+json": {
       "model_id": "3593d667202347d2836629f43359e089",
       "version_major": 2,
       "version_minor": 0
      },
      "text/plain": [
       "Training: |          | 0/? [00:00<?, ?it/s]"
      ]
     },
     "metadata": {},
     "output_type": "display_data"
    },
    {
     "data": {
      "application/vnd.jupyter.widget-view+json": {
       "model_id": "ac2cf01b77f145e1adf54fef02a0e942",
       "version_major": 2,
       "version_minor": 0
      },
      "text/plain": [
       "Validation: |          | 0/? [00:00<?, ?it/s]"
      ]
     },
     "metadata": {},
     "output_type": "display_data"
    },
    {
     "data": {
      "application/vnd.jupyter.widget-view+json": {
       "model_id": "26addd0bc307472593c627a237b74f0f",
       "version_major": 2,
       "version_minor": 0
      },
      "text/plain": [
       "Validation: |          | 0/? [00:00<?, ?it/s]"
      ]
     },
     "metadata": {},
     "output_type": "display_data"
    },
    {
     "data": {
      "application/vnd.jupyter.widget-view+json": {
       "model_id": "8f723dcb25ed44edaf68da993db5d12a",
       "version_major": 2,
       "version_minor": 0
      },
      "text/plain": [
       "Validation: |          | 0/? [00:00<?, ?it/s]"
      ]
     },
     "metadata": {},
     "output_type": "display_data"
    },
    {
     "data": {
      "application/vnd.jupyter.widget-view+json": {
       "model_id": "f53379e4b5294509a7dc89e990ec967e",
       "version_major": 2,
       "version_minor": 0
      },
      "text/plain": [
       "Validation: |          | 0/? [00:00<?, ?it/s]"
      ]
     },
     "metadata": {},
     "output_type": "display_data"
    },
    {
     "data": {
      "application/vnd.jupyter.widget-view+json": {
       "model_id": "f4d0fa5781be4b708449a6d8480d34fc",
       "version_major": 2,
       "version_minor": 0
      },
      "text/plain": [
       "Validation: |          | 0/? [00:00<?, ?it/s]"
      ]
     },
     "metadata": {},
     "output_type": "display_data"
    },
    {
     "data": {
      "application/vnd.jupyter.widget-view+json": {
       "model_id": "6ad59b2837f243d89a276a8b57d4e17b",
       "version_major": 2,
       "version_minor": 0
      },
      "text/plain": [
       "Validation: |          | 0/? [00:00<?, ?it/s]"
      ]
     },
     "metadata": {},
     "output_type": "display_data"
    },
    {
     "data": {
      "application/vnd.jupyter.widget-view+json": {
       "model_id": "2d61a088eee84d009354e8548188395a",
       "version_major": 2,
       "version_minor": 0
      },
      "text/plain": [
       "Validation: |          | 0/? [00:00<?, ?it/s]"
      ]
     },
     "metadata": {},
     "output_type": "display_data"
    },
    {
     "data": {
      "application/vnd.jupyter.widget-view+json": {
       "model_id": "e05cc40130c54a6cbd4bb684570ed0da",
       "version_major": 2,
       "version_minor": 0
      },
      "text/plain": [
       "Validation: |          | 0/? [00:00<?, ?it/s]"
      ]
     },
     "metadata": {},
     "output_type": "display_data"
    },
    {
     "data": {
      "application/vnd.jupyter.widget-view+json": {
       "model_id": "376bee43b80c4be5a9679ed1d0ee3f25",
       "version_major": 2,
       "version_minor": 0
      },
      "text/plain": [
       "Validation: |          | 0/? [00:00<?, ?it/s]"
      ]
     },
     "metadata": {},
     "output_type": "display_data"
    },
    {
     "data": {
      "application/vnd.jupyter.widget-view+json": {
       "model_id": "e201828d465443a98e7ea7646e695da9",
       "version_major": 2,
       "version_minor": 0
      },
      "text/plain": [
       "Validation: |          | 0/? [00:00<?, ?it/s]"
      ]
     },
     "metadata": {},
     "output_type": "display_data"
    },
    {
     "data": {
      "application/vnd.jupyter.widget-view+json": {
       "model_id": "c701c05f989d4b88b302b31738eac69b",
       "version_major": 2,
       "version_minor": 0
      },
      "text/plain": [
       "Validation: |          | 0/? [00:00<?, ?it/s]"
      ]
     },
     "metadata": {},
     "output_type": "display_data"
    },
    {
     "data": {
      "application/vnd.jupyter.widget-view+json": {
       "model_id": "20790d99b5314638a078243c63aed0dc",
       "version_major": 2,
       "version_minor": 0
      },
      "text/plain": [
       "Validation: |          | 0/? [00:00<?, ?it/s]"
      ]
     },
     "metadata": {},
     "output_type": "display_data"
    },
    {
     "data": {
      "application/vnd.jupyter.widget-view+json": {
       "model_id": "3d942539f28a410a8b35600f38dbb2dc",
       "version_major": 2,
       "version_minor": 0
      },
      "text/plain": [
       "Validation: |          | 0/? [00:00<?, ?it/s]"
      ]
     },
     "metadata": {},
     "output_type": "display_data"
    }
   ],
   "source": [
    "trainer = Trainer(max_epochs=50, callbacks=[loss_tracker])\n",
    "trainer.fit(autoencoder, eeg_train_dataloader, eeg_val_dataloader)"
   ]
  },
  {
   "cell_type": "code",
   "execution_count": null,
   "metadata": {},
   "outputs": [],
   "source": [
    "autoencoder = CNNClassifier()\n",
    "trainer = Trainer(max_epochs=50, callbacks=[loss_tracker])\n",
    "trainer.fit(autoencoder, eeg_train_dataloader, eeg_val_dataloader)"
   ]
  },
  {
   "cell_type": "markdown",
   "metadata": {},
   "source": [
    "## MNIST"
   ]
  },
  {
   "cell_type": "code",
   "execution_count": 328,
   "metadata": {},
   "outputs": [],
   "source": [
    "transform = transforms.Compose([transforms.ToTensor()])\n",
    "mnist_full = datasets.MNIST(\n",
    "    root=\"./data\", train=True, download=True, transform=transform\n",
    ")\n",
    "mnist_train_dataset, mnist_val_dataset = random_split(mnist_full, [55000, 5000])\n",
    "mnist_train_loader = DataLoader(mnist_train_dataset, batch_size=64, shuffle=True)\n",
    "mnist_val_loader = DataLoader(mnist_val_dataset, batch_size=64)"
   ]
  },
  {
   "cell_type": "code",
   "execution_count": 329,
   "metadata": {},
   "outputs": [],
   "source": [
    "checkpoint_path = \"lightning_logs/version_14/checkpoints/epoch=9-step=8600.ckpt\"\n",
    "mnist_classifier = MNISTClassifier.load_from_checkpoint(checkpoint_path)\n",
    "# mnist_classifier = MNISTClassifier(latent_dim=latent_dim)\n",
    "# mnist_trainer = pl.Trainer(max_epochs=3)\n",
    "# mnist_trainer.fit(mnist_classifier, mnist_train_loader, mnist_val_loader)"
   ]
  },
  {
   "cell_type": "markdown",
   "metadata": {},
   "source": [
    "## Model Alignement"
   ]
  },
  {
   "cell_type": "code",
   "execution_count": 355,
   "metadata": {},
   "outputs": [],
   "source": [
    "eeg_encoder = autoencoder.get_encoder()\n",
    "mnist_encoder = mnist_classifier.feature_extractor"
   ]
  },
  {
   "cell_type": "code",
   "execution_count": 356,
   "metadata": {},
   "outputs": [],
   "source": [
    "eeg_train_encoded_dataset = EncodedDataset(eeg_train_dataloader, eeg_encoder)\n",
    "eeg_val_encoded_dataset = EncodedDataset(eeg_val_dataloader, eeg_encoder)"
   ]
  },
  {
   "cell_type": "code",
   "execution_count": 357,
   "metadata": {},
   "outputs": [],
   "source": [
    "mnist_train_encoded_data = EncodedDataset(mnist_train_loader, mnist_encoder)\n",
    "mnist_val_encoded_data = EncodedDataset(mnist_val_loader, mnist_encoder)"
   ]
  },
  {
   "cell_type": "code",
   "execution_count": 358,
   "metadata": {},
   "outputs": [],
   "source": [
    "latent_train_dataset = LatentDataset(\n",
    "    eeg_train_encoded_dataset, mnist_train_encoded_data\n",
    ")\n",
    "latent_train_dataloader = DataLoader(latent_train_dataset, batch_size=32, shuffle=True)\n",
    "\n",
    "latent_val_dataset = LatentDataset(eeg_val_encoded_dataset, mnist_train_encoded_data)\n",
    "latent_val_dataloader = DataLoader(latent_val_dataset, batch_size=32, shuffle=False)"
   ]
  },
  {
   "cell_type": "code",
   "execution_count": 359,
   "metadata": {},
   "outputs": [
    {
     "name": "stderr",
     "output_type": "stream",
     "text": [
      "GPU available: False, used: False\n",
      "TPU available: False, using: 0 TPU cores\n",
      "IPU available: False, using: 0 IPUs\n",
      "HPU available: False, using: 0 HPUs\n"
     ]
    },
    {
     "name": "stderr",
     "output_type": "stream",
     "text": [
      "\n",
      "  | Name       | Type       | Params\n",
      "------------------------------------------\n",
      "0 | projection | Sequential | 58.6 K\n",
      "1 | criterion  | MSELoss    | 0     \n",
      "------------------------------------------\n",
      "58.6 K    Trainable params\n",
      "0         Non-trainable params\n",
      "58.6 K    Total params\n",
      "0.234     Total estimated model params size (MB)\n"
     ]
    },
    {
     "name": "stdout",
     "output_type": "stream",
     "text": [
      "Epoch 3:  63%|██████▎   | 1090/1719 [00:11<00:06, 96.98it/s, v_num=2, train_loss_step=11.70, val_loss_step=8.510, val_loss_epoch=11.00, train_loss_epoch=11.00]"
     ]
    }
   ],
   "source": [
    "loss_tracker = LossTracker()\n",
    "latent_projection = LatentProjection(latent_dim,latent_dim)\n",
    "latent_trainer = Trainer(max_epochs=10)\n",
    "latent_trainer.fit(latent_projection, latent_train_dataloader, latent_val_dataloader)"
   ]
  }
 ],
 "metadata": {
  "kernelspec": {
   "display_name": "cloudspace",
   "language": "python",
   "name": "python3"
  },
  "language_info": {
   "codemirror_mode": {
    "name": "ipython",
    "version": 3
   },
   "file_extension": ".py",
   "mimetype": "text/x-python",
   "name": "python",
   "nbconvert_exporter": "python",
   "pygments_lexer": "ipython3",
   "version": "3.10.10"
  }
 },
 "nbformat": 4,
 "nbformat_minor": 2
}
