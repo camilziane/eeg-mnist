{
 "cells": [
  {
   "cell_type": "code",
   "execution_count": 2,
   "metadata": {},
   "outputs": [
    {
     "name": "stderr",
     "output_type": "stream",
     "text": [
      "/Users/camilziane/My-projects/EEG/eeg-mnist/.venv/lib/python3.11/site-packages/tqdm/auto.py:21: TqdmWarning: IProgress not found. Please update jupyter and ipywidgets. See https://ipywidgets.readthedocs.io/en/stable/user_install.html\n",
      "  from .autonotebook import tqdm as notebook_tqdm\n"
     ]
    }
   ],
   "source": [
    "import pandas as pd\n",
    "import random\n",
    "from torch.utils.data import Dataset, DataLoader, random_split\n",
    "import numpy as np\n",
    "import torch\n",
    "import torch.nn as nn\n",
    "import pytorch_lightning as pl\n",
    "from pytorch_lightning import Trainer\n",
    "from pytorch_lightning.callbacks import Callback\n",
    "import matplotlib.pyplot as plt\n",
    "from torchvision import datasets, transforms\n",
    "from datasets import load_dataset"
   ]
  },
  {
   "cell_type": "code",
   "execution_count": 3,
   "metadata": {},
   "outputs": [],
   "source": [
    "class EEG_Dataset(Dataset):\n",
    "    def __init__(self, dataset):\n",
    "        data_df = dataset.to_pandas()\n",
    "        features_names = list(data_df.columns)[1:]\n",
    "        self.electrodes = list(set([f.split(\"-\")[0] for f in features_names]))\n",
    "        self.nb_channel = len(self.electrodes)\n",
    "        self.nb_samples = (max([int(f.split(\"-\")[1]) for f in features_names]))+1\n",
    "        self.datas = self._norm(data_df)\n",
    "        self.features = self.datas[:,1:]\n",
    "        self.labels = list(self.datas[:,0].astype(int))\n",
    "\n",
    "\n",
    "    def _norm(self, data_df):\n",
    "        electrodes_min = {}\n",
    "        electrodes_max = {}\n",
    "        for electrode in self.electrodes :\n",
    "            electrodes_min[electrode] = data_df[[f'{electrode}-{i}'for i in range(self.nb_samples)]].to_numpy().reshape(-1,).max()\n",
    "            electrodes_max[electrode] = data_df[[f'{electrode}-{i}'for i in range(self.nb_samples)]].to_numpy().reshape(-1,).min()\n",
    "\n",
    "        for electrode in self.electrodes:\n",
    "            data_df[[f'{electrode}-{i}'for i in range(self.nb_samples)]] = (data_df[[f'{electrode}-{i}'for i in range(self.nb_samples)]] - electrodes_min[electrode])/(electrodes_max[electrode] -electrodes_min[electrode])\n",
    "        return data_df.to_numpy()\n",
    "\n",
    "\n",
    "    def __len__(self):\n",
    "        return len(self.labels)\n",
    "\n",
    "    def __getitem__(self, idx):\n",
    "        return torch.tensor(self.features[idx]).view(self.nb_channel,-1).float(), self.labels[idx]"
   ]
  },
  {
   "cell_type": "code",
   "execution_count": 160,
   "metadata": {},
   "outputs": [],
   "source": [
    "class EEG_Spectogram_Dataset(Dataset):\n",
    "    def __init__(self, dataset):\n",
    "        data_df = dataset.to_pandas()\n",
    "        features_names = list(data_df.columns)[1:]\n",
    "        self.electrodes = list(set([f.split(\"-\")[0] for f in features_names]))\n",
    "        self.nb_channel = len(self.electrodes)\n",
    "        self.nb_samples = (max([int(f.split(\"-\")[1]) for f in features_names])) + 1\n",
    "        datas = data_df.to_numpy()\n",
    "        self.features = datas[:, 1:]\n",
    "        self.labels = list(datas[:, 0].astype(int))\n",
    "        self.spectrograms = self._norm(self._spectogram(features=self.features)).float() \n",
    "        del datas\n",
    "\n",
    "    def _spectogram(self, features, n_fft=256, hop_length=10, fs=128, lowcut=0.5):\n",
    "        features = torch.tensor(\n",
    "            features.reshape(-1, features.shape[-1] // self.nb_channel)\n",
    "        )\n",
    "        window = torch.hann_window(n_fft)\n",
    "        stft_result = torch.stft(\n",
    "            features,\n",
    "            n_fft=n_fft,\n",
    "            hop_length=hop_length,\n",
    "            window=window,\n",
    "            return_complex=True,\n",
    "        )\n",
    "        spectrogram = torch.abs(stft_result)\n",
    "        spectrogram = spectrogram.reshape(\n",
    "            -1, self.nb_channel, spectrogram.shape[-2], spectrogram.shape[-1]\n",
    "        )\n",
    "        # Remove frequencies below lowcut Hz\n",
    "        freqs = np.linspace(0, fs // 2, spectrogram.shape[2])\n",
    "        start_freq = np.argwhere(freqs > lowcut)[0].item()\n",
    "        spectrogram = spectrogram[:, :, start_freq:, :]\n",
    "        return spectrogram\n",
    "\n",
    "    def _norm(self, spectrogram):\n",
    "        spectrogram_min = torch.amin(spectrogram, dim=(0, 2, 3), keepdim=True)\n",
    "        spectrogram_max = torch.amax(spectrogram, dim=(0, 2, 3), keepdim=True)\n",
    "        return (spectrogram - spectrogram_min) / (spectrogram_max - spectrogram_min)\n",
    "\n",
    "    def __len__(self):\n",
    "        return len(self.labels)\n",
    "\n",
    "    def __getitem__(self, idx):\n",
    "        return self.spectrograms[idx], self.labels[idx]"
   ]
  },
  {
   "cell_type": "code",
   "execution_count": 3,
   "metadata": {},
   "outputs": [],
   "source": [
    "class UNetAutoencoder(pl.LightningModule):\n",
    "    def __init__(self, input_channels=5, sequence_length=256, latent_dim=64, dropout_rate=0.2, mask_ratio=0.15):\n",
    "        super(UNetAutoencoder, self).__init__()\n",
    "\n",
    "        self.input_channels = input_channels\n",
    "        self.sequence_length = sequence_length\n",
    "        self.mask_ratio = mask_ratio\n",
    "\n",
    "        # Encoder\n",
    "        self.enc1 = self.conv_block(input_channels, 32, dropout_rate)\n",
    "        self.enc2 = self.conv_block(32, 64, dropout_rate)\n",
    "        self.enc3 = self.conv_block(64, 128, dropout_rate)\n",
    "        self.enc4 = self.conv_block(128, 256, dropout_rate)\n",
    "\n",
    "        # Calculate the size of the encoder output\n",
    "        self.encoder_output_size = sequence_length // 16 * 256\n",
    "\n",
    "        # Latent space\n",
    "        self.fc1 = nn.Sequential(\n",
    "            nn.Linear(self.encoder_output_size, latent_dim),\n",
    "            nn.Dropout(dropout_rate)\n",
    "        )\n",
    "        self.fc2 = nn.Linear(latent_dim, self.encoder_output_size)\n",
    "\n",
    "        # Decoder\n",
    "        self.dec4 = self.conv_block(256, 128, dropout_rate, transpose=True)\n",
    "        self.dec3 = self.conv_block(256, 64, dropout_rate, transpose=True)\n",
    "        self.dec2 = self.conv_block(128, 32, dropout_rate, transpose=True)\n",
    "        self.dec1 = nn.ConvTranspose1d(64, input_channels, kernel_size=3, stride=2, padding=1, output_padding=1)\n",
    "\n",
    "        self.criterion = nn.MSELoss()\n",
    "\n",
    "    def conv_block(self, in_channels, out_channels, dropout_rate, transpose=False):\n",
    "        if not transpose:\n",
    "            return nn.Sequential(\n",
    "                nn.Conv1d(in_channels, out_channels, kernel_size=3, stride=2, padding=1),\n",
    "                nn.BatchNorm1d(out_channels),\n",
    "                nn.ReLU(),\n",
    "                nn.Dropout(dropout_rate),\n",
    "                nn.Conv1d(out_channels, out_channels, kernel_size=3, padding=1),\n",
    "                nn.BatchNorm1d(out_channels),\n",
    "                nn.ReLU(),\n",
    "                nn.Dropout(dropout_rate)\n",
    "            )\n",
    "        else:\n",
    "            return nn.Sequential(\n",
    "                nn.ConvTranspose1d(in_channels, out_channels, kernel_size=3, stride=2, padding=1, output_padding=1),\n",
    "                nn.BatchNorm1d(out_channels),\n",
    "                nn.ReLU(),\n",
    "                nn.Dropout(dropout_rate),\n",
    "                nn.Conv1d(out_channels, out_channels, kernel_size=3, padding=1),\n",
    "                nn.BatchNorm1d(out_channels),\n",
    "                nn.ReLU(),\n",
    "                nn.Dropout(dropout_rate)\n",
    "            )\n",
    "\n",
    "    def forward(self, x):\n",
    "        # Encoder\n",
    "        e1 = self.enc1(x)\n",
    "        e2 = self.enc2(e1)\n",
    "        e3 = self.enc3(e2)\n",
    "        e4 = self.enc4(e3)\n",
    "\n",
    "        # Flatten\n",
    "        x = e4.view(e4.size(0), -1)\n",
    "\n",
    "        # Latent space\n",
    "        x = self.fc1(x)\n",
    "        x = self.fc2(x)\n",
    "\n",
    "        # Reshape for decoder\n",
    "        x = x.view(x.size(0), 256, -1)\n",
    "\n",
    "        # Decoder with skip connections\n",
    "        x = self.dec4(x)\n",
    "        x = torch.cat([x, e3], dim=1)\n",
    "        x = self.dec3(x)\n",
    "        x = torch.cat([x, e2], dim=1)\n",
    "        x = self.dec2(x)\n",
    "        x = torch.cat([x, e1], dim=1)\n",
    "        x = self.dec1(x)\n",
    "\n",
    "        return x\n",
    "\n",
    "    def get_encoder(self):\n",
    "        return nn.Sequential(\n",
    "            self.enc1, self.enc2, self.enc3, self.enc4,\n",
    "            nn.Flatten(),\n",
    "            self.fc1\n",
    "        )\n",
    "\n",
    "    def apply_mask(self, x):\n",
    "        batch_size, _, _ = x.shape\n",
    "        mask = torch.rand(batch_size, self.input_channels, self.sequence_length, device=x.device) > self.mask_ratio\n",
    "        return x * mask, mask\n",
    "\n",
    "    def training_step(self, batch, batch_idx):\n",
    "        x, _ = batch\n",
    "        x_masked, mask = self.apply_mask(x)\n",
    "        x_hat = self.forward(x_masked)\n",
    "        loss = self.criterion(x_hat * mask, x * mask)  # Compute loss only on unmasked parts\n",
    "        self.log(\"train_loss\", loss, on_step=True, on_epoch=True, prog_bar=True)\n",
    "        return loss\n",
    "\n",
    "    def validation_step(self, batch, batch_idx):\n",
    "        x, _ = batch\n",
    "        x_masked, mask = self.apply_mask(x)\n",
    "        x_hat = self.forward(x_masked)\n",
    "        loss = self.criterion(x_hat * mask, x * mask)  # Compute loss only on unmasked parts\n",
    "        self.log(\"val_loss\", loss, on_step=False, on_epoch=True, prog_bar=True)\n",
    "        return loss\n",
    "\n",
    "    def configure_optimizers(self):\n",
    "        optimizer = torch.optim.Adam(self.parameters(), lr=1e-3)\n",
    "        scheduler = torch.optim.lr_scheduler.ReduceLROnPlateau(optimizer, mode='min', factor=0.5, patience=5, verbose=True)\n",
    "        return {\n",
    "            \"optimizer\": optimizer,\n",
    "            \"lr_scheduler\": {\n",
    "                \"scheduler\": scheduler,\n",
    "                \"monitor\": \"val_loss\",\n",
    "            },\n",
    "        }"
   ]
  },
  {
   "cell_type": "code",
   "execution_count": 4,
   "metadata": {},
   "outputs": [],
   "source": [
    "class ResidualBlock(nn.Module):\n",
    "    def __init__(self, in_channels, out_channels, downsample=False):\n",
    "        super(ResidualBlock, self).__init__()\n",
    "        stride = 2 if downsample else 1\n",
    "        self.conv1 = nn.Conv1d(in_channels, out_channels, kernel_size=3, stride=stride, padding=1)\n",
    "        self.norm1 = nn.BatchNorm1d(out_channels)\n",
    "        self.mish = nn.Mish()\n",
    "        \n",
    "        self.conv2 = nn.Conv1d(out_channels, out_channels, kernel_size=3, stride=1, padding=1)\n",
    "        self.norm2 = nn.BatchNorm1d(out_channels)\n",
    "        \n",
    "        # Skip connection\n",
    "        self.downsample = downsample\n",
    "        if downsample or in_channels != out_channels:\n",
    "            self.skip = nn.Sequential(\n",
    "                nn.Conv1d(in_channels, out_channels, kernel_size=1, stride=stride),\n",
    "                nn.BatchNorm1d(out_channels)\n",
    "            )\n",
    "        else:\n",
    "            self.skip = nn.Identity()\n",
    "\n",
    "    def forward(self, x):\n",
    "        identity = self.skip(x)\n",
    "        out = self.mish(self.norm1(self.conv1(x)))\n",
    "        out = self.norm2(self.conv2(out))\n",
    "        out += identity\n",
    "        return self.mish(out)\n",
    "\n",
    "class ResNetClassifier(pl.LightningModule):\n",
    "    def __init__(self, input_channels=5, sequence_length=256, num_classes=10, dropout_rate=0.5):  # Higher dropout\n",
    "        super(ResNetClassifier, self).__init__()\n",
    "        \n",
    "        # Initial layer\n",
    "        self.initial_conv = nn.Sequential(\n",
    "            nn.Conv1d(input_channels, 16, kernel_size=7, stride=2, padding=3),\n",
    "            nn.BatchNorm1d(16),\n",
    "            nn.Mish(),\n",
    "            nn.MaxPool1d(kernel_size=3, stride=2, padding=1)\n",
    "        )\n",
    "        \n",
    "        # Reduced Residual Blocks\n",
    "        self.layer1 = ResidualBlock(16, 32, downsample=True)\n",
    "        self.layer2 = ResidualBlock(32, 64, downsample=True)\n",
    "        \n",
    "        # Calculate size before FC layers\n",
    "        reduced_length = sequence_length // 4\n",
    "        self.fc_input_size = 1024\n",
    "        \n",
    "        # Fully connected layers with residual connection\n",
    "        self.fc1 = nn.Sequential(\n",
    "            nn.Flatten(),\n",
    "            nn.Linear(self.fc_input_size, 256),  # Reduced size\n",
    "            nn.Mish(),\n",
    "            nn.Dropout(dropout_rate)\n",
    "        )\n",
    "        \n",
    "        self.fc2 = nn.Sequential(\n",
    "            nn.Linear(256, 256),  # Reduced size\n",
    "            nn.Mish(),\n",
    "            nn.Dropout(dropout_rate)\n",
    "        )\n",
    "        \n",
    "        # Output layer\n",
    "        self.classifier = nn.Linear(256, num_classes)\n",
    "        \n",
    "        self.criterion = nn.CrossEntropyLoss()\n",
    "\n",
    "    def forward(self, x):\n",
    "        x = self.initial_conv(x)\n",
    "        x = self.layer1(x)\n",
    "        x = self.layer2(x)\n",
    "        \n",
    "        # Residual connection in fully connected layers\n",
    "        x = self.fc1(x)\n",
    "        x = x + self.fc2(x)\n",
    "        logits = self.classifier(x)\n",
    "        \n",
    "        return logits\n",
    "\n",
    "    def training_step(self, batch, batch_idx):\n",
    "        x, y = batch\n",
    "        logits = self(x)\n",
    "        loss = self.criterion(logits, y)\n",
    "        accuracy = (logits.argmax(dim=1) == y).float().mean()\n",
    "        self.log(\"train_loss\", loss, on_step=True, on_epoch=True, prog_bar=True)\n",
    "        self.log(\"train_accuracy\", accuracy, on_step=True, on_epoch=True, prog_bar=True)\n",
    "        return loss\n",
    "\n",
    "    def validation_step(self, batch, batch_idx):\n",
    "        x, y = batch\n",
    "        logits = self(x)\n",
    "        loss = self.criterion(logits, y)\n",
    "        accuracy = (logits.argmax(dim=1) == y).float().mean()\n",
    "        self.log(\"val_loss\", loss, on_step=False, on_epoch=True, prog_bar=True)\n",
    "        self.log(\"val_accuracy\", accuracy, on_step=False, on_epoch=True, prog_bar=True)\n",
    "        return loss\n",
    "\n",
    "    def configure_optimizers(self):\n",
    "        optimizer = torch.optim.AdamW(self.parameters(), lr=0.01, weight_decay=1e-3)\n",
    "        \n",
    "        # Cosine Annealing Scheduler\n",
    "        scheduler = torch.optim.lr_scheduler.CosineAnnealingLR(optimizer, T_max=50)\n",
    "        \n",
    "        return [optimizer], [scheduler]\n"
   ]
  },
  {
   "cell_type": "code",
   "execution_count": 40,
   "metadata": {},
   "outputs": [],
   "source": [
    "class CNNClassifier(pl.LightningModule):\n",
    "    def __init__(self, input_channels=5, sequence_length=256, num_classes=10, dropout_rate=0.2):\n",
    "        super(CNNClassifier, self).__init__()\n",
    "        \n",
    "        # Layer 1: Conv + LeakyReLU\n",
    "        self.conv1 = nn.Conv1d(input_channels, input_channels, kernel_size=5, stride=1, padding=2)\n",
    "        self.leaky1 = nn.LeakyReLU(negative_slope=0.1)\n",
    "        self.norm1 = nn.BatchNorm1d(input_channels)\n",
    "        \n",
    "        # Layer 3: Conv + LeakyReLU\n",
    "        self.conv2 = nn.Conv1d(input_channels, 3, kernel_size=5, stride=1, padding=2)\n",
    "        self.leaky2 = nn.LeakyReLU(negative_slope=0.1)\n",
    "        self.norm2 = nn.BatchNorm1d(3)\n",
    "        \n",
    "        # Layer 5: Conv + LeakyReLU\n",
    "        self.conv3 = nn.Conv1d(3, 3, kernel_size=5, stride=1, padding=2)\n",
    "        self.leaky3 = nn.LeakyReLU(negative_slope=0.1)\n",
    "        self.norm3 = nn.BatchNorm1d(3)\n",
    "        \n",
    "        # Calculate size before FC layers\n",
    "        self.fc_input_size = 3 * sequence_length  # 10 channels * sequence_length\n",
    "        \n",
    "        # Layer 7: Full-connected\n",
    "        self.fc1 = nn.Sequential(\n",
    "            nn.Flatten(),\n",
    "            nn.Linear(self.fc_input_size, self.fc_input_size),\n",
    "            nn.LeakyReLU(negative_slope=0.1),\n",
    "            nn.Dropout(dropout_rate)\n",
    "        )\n",
    "        \n",
    "        # Layer 8: Full-connected\n",
    "        self.fc2 = nn.Sequential(\n",
    "            nn.Linear(self.fc_input_size, self.fc_input_size//4),\n",
    "            nn.LeakyReLU(negative_slope=0.1),\n",
    "            nn.Dropout(dropout_rate)\n",
    "        )\n",
    "        \n",
    "        # Output layer\n",
    "        self.classifier = nn.Linear(self.fc_input_size//4, num_classes)\n",
    "        \n",
    "        self.criterion = nn.CrossEntropyLoss()\n",
    "\n",
    "    def forward(self, x):\n",
    "        # Convolutional layers\n",
    "        x = self.conv1(x)\n",
    "        x = self.leaky1(x)\n",
    "        x = self.norm1(x)\n",
    "        \n",
    "        x = self.conv2(x)\n",
    "        x = self.leaky2(x)\n",
    "        x = self.norm2(x)\n",
    "        \n",
    "        x = self.conv3(x)\n",
    "        x = self.leaky3(x)\n",
    "        x = self.norm3(x)\n",
    "        \n",
    "        # Fully connected layers\n",
    "        x = self.fc1(x)\n",
    "        x = self.fc2(x)\n",
    "        \n",
    "        # Classification head\n",
    "        logits = self.classifier(x)\n",
    "        \n",
    "        return logits\n",
    "\n",
    "    def training_step(self, batch, batch_idx):\n",
    "        x, y = batch\n",
    "        logits = self(x)\n",
    "        loss = self.criterion(logits, y)\n",
    "        accuracy = (logits.argmax(dim=1) == y).float().mean()\n",
    "        self.log(\"train_loss\", loss, on_step=True, on_epoch=True, prog_bar=True)\n",
    "        self.log(\"train_accuracy\", accuracy, on_step=True, on_epoch=True, prog_bar=True)\n",
    "        return loss\n",
    "\n",
    "    def validation_step(self, batch, batch_idx):\n",
    "        x, y = batch\n",
    "        logits = self(x)\n",
    "        loss = self.criterion(logits, y)\n",
    "        accuracy = (logits.argmax(dim=1) == y).float().mean()\n",
    "        self.log(\"val_loss\", loss, on_step=False, on_epoch=True, prog_bar=True)\n",
    "        self.log(\"val_accuracy\", accuracy, on_step=False, on_epoch=True, prog_bar=True)\n",
    "        return loss\n",
    "\n",
    "    def configure_optimizers(self):\n",
    "        optimizer = torch.optim.AdamW(self.parameters(), lr=1e-3, weight_decay=1e-2)\n",
    "        scheduler = torch.optim.lr_scheduler.ReduceLROnPlateau(\n",
    "            optimizer, mode='min', factor=0.2, patience=2, verbose=True, min_lr=0.000001,\n",
    "        )\n",
    "        return {\n",
    "            \"optimizer\": optimizer,\n",
    "            \"lr_scheduler\": {\n",
    "                \"scheduler\": scheduler,\n",
    "                \"monitor\": \"val_loss\",\n",
    "            },\n",
    "        }"
   ]
  },
  {
   "cell_type": "code",
   "execution_count": 6,
   "metadata": {},
   "outputs": [],
   "source": [
    "class MNISTClassifier(pl.LightningModule):\n",
    "    def __init__(self, latent_dim=64, num_classes=10):\n",
    "        super(MNISTClassifier, self).__init__()\n",
    "        \n",
    "        self.feature_extractor = nn.Sequential(\n",
    "            nn.Conv2d(1, 32, kernel_size=3, stride=2, padding=1),\n",
    "            nn.ReLU(),\n",
    "            nn.Conv2d(32, 64, kernel_size=3, stride=2, padding=1),\n",
    "            nn.ReLU(),\n",
    "            nn.Flatten(),\n",
    "            nn.Linear(64 * 7 * 7, latent_dim)\n",
    "        )\n",
    "        \n",
    "        self.classifier = nn.Linear(latent_dim, num_classes)\n",
    "        self.criterion = nn.CrossEntropyLoss()\n",
    "\n",
    "    def forward(self, x):\n",
    "        features = self.feature_extractor(x)\n",
    "        return self.classifier(features), features\n",
    "\n",
    "    def training_step(self, batch, batch_idx):\n",
    "        x, y = batch\n",
    "        logits, _ = self(x)\n",
    "        loss = self.criterion(logits, y)\n",
    "        self.log(\"train_loss\", loss)\n",
    "        return loss\n",
    "\n",
    "    def validation_step(self, batch, batch_idx):\n",
    "        x, y = batch\n",
    "        logits, _ = self(x)\n",
    "        loss = self.criterion(logits, y)\n",
    "        acc = (logits.argmax(dim=1) == y).float().mean()\n",
    "        self.log(\"val_loss\", loss)\n",
    "        self.log(\"val_acc\", acc)\n",
    "\n",
    "    def configure_optimizers(self):\n",
    "        return torch.optim.Adam(self.parameters(), lr=1e-3)"
   ]
  },
  {
   "cell_type": "code",
   "execution_count": 7,
   "metadata": {},
   "outputs": [],
   "source": [
    "class EncodedDataset:\n",
    "    def __init__(self, dataloader, encoder):\n",
    "        super().__init__()\n",
    "        self.encoded_datas, self.labels = self._encode_dataset(dataloader, encoder)\n",
    "\n",
    "    def _encode_dataset(self, dataloader, encoder):\n",
    "        encoded_datas = []\n",
    "        labels = []\n",
    "        for batch in dataloader:\n",
    "            encoded_data = encoder(batch[0]).detach()\n",
    "            encoded_datas.append(encoded_data)\n",
    "            labels.append(batch[1])\n",
    "        encoded_datas = torch.cat(encoded_datas)\n",
    "        labels = torch.cat(labels)\n",
    "        return encoded_datas, labels\n",
    "\n",
    "    def __len__(self):\n",
    "        return len(self.labels)\n",
    "\n",
    "    def __getitem__(self, idx):\n",
    "        return self.encoded_datas[idx], self.labels[idx].item()\n"
   ]
  },
  {
   "cell_type": "code",
   "execution_count": 8,
   "metadata": {},
   "outputs": [],
   "source": [
    "class LatentDataset(torch.utils.data.Dataset):\n",
    "    def __init__(self, eeg_data, mnist_data):\n",
    "        self.paired_data = self._pair_data(eeg_data, mnist_data)\n",
    "\n",
    "    def _pair_data(self, eeg_data, mnist_data):\n",
    "        eeg_by_label = {i: [] for i in range(10)}\n",
    "        mnist_by_label = {i: [] for i in range(10)}\n",
    "\n",
    "        # Group EEG data by label\n",
    "        for eeg, label in eeg_data: \n",
    "            if 0 <= label < 10:\n",
    "                eeg_by_label[label].append(eeg)\n",
    "\n",
    "        # Group MNIST data by label\n",
    "        for img, label in mnist_data:\n",
    "            mnist_by_label[label].append(img)\n",
    "\n",
    "        # Pair EEG and MNIST data\n",
    "        paired_data = []\n",
    "        for label in eeg_by_label.keys():\n",
    "            eeg_samples = eeg_by_label[label]\n",
    "            mnist_samples = mnist_by_label[label]\n",
    "\n",
    "            # Use the maximum number of samples available\n",
    "            n_samples = max(len(eeg_samples), len(mnist_samples))\n",
    "\n",
    "            # Replicate samples if necessary\n",
    "            if len(eeg_samples) < n_samples:\n",
    "                eeg_samples = self._replicate_samples(eeg_samples, n_samples)\n",
    "            if len(mnist_samples) < n_samples:\n",
    "                mnist_samples = self._replicate_samples(mnist_samples, n_samples)\n",
    "\n",
    "            for eeg, mnist in zip(eeg_samples, mnist_samples):\n",
    "                paired_data.append((eeg, mnist, label))\n",
    "\n",
    "        return paired_data\n",
    "\n",
    "    def _replicate_samples(self, samples, target_size):\n",
    "        \"\"\"Replicate samples randomly to reach the target size.\"\"\"\n",
    "        while len(samples) < target_size:\n",
    "            samples.append(random.choice(samples))\n",
    "        return samples\n",
    "\n",
    "    def __len__(self):\n",
    "        return len(self.paired_data)\n",
    "\n",
    "    def __getitem__(self, idx):\n",
    "        return self.paired_data[idx]"
   ]
  },
  {
   "cell_type": "code",
   "execution_count": 9,
   "metadata": {},
   "outputs": [],
   "source": [
    "class LatentProjection(pl.LightningModule):\n",
    "    def __init__(self, eeg_latent_dim, mnist_latent_dim, hidden_dims=[256, 128]):\n",
    "        super(LatentProjection, self).__init__()\n",
    "        \n",
    "        layers = []\n",
    "        input_dim = eeg_latent_dim\n",
    "        \n",
    "        for hidden_dim in hidden_dims:\n",
    "            layers.extend([\n",
    "                nn.Linear(input_dim, hidden_dim),\n",
    "                nn.BatchNorm1d(hidden_dim),\n",
    "                nn.ReLU(),\n",
    "                nn.Dropout(0.2)\n",
    "            ])\n",
    "            input_dim = hidden_dim\n",
    "        \n",
    "        layers.append(nn.Linear(input_dim, mnist_latent_dim))\n",
    "        \n",
    "        self.projection = nn.Sequential(*layers)\n",
    "        self.criterion = nn.MSELoss()\n",
    "\n",
    "    def forward(self, x):\n",
    "        return self.projection(x)\n",
    "\n",
    "    def training_step(self, batch, batch_idx):\n",
    "        eeg_latent, mnist_latent, _ = batch\n",
    "        projected = self(eeg_latent)\n",
    "        loss = self.criterion(projected, mnist_latent)\n",
    "        self.log(\"train_loss\", loss, on_step=True, on_epoch=True, prog_bar=True)        \n",
    "        return loss\n",
    "\n",
    "    def validation_step(self, batch, batch_idx):\n",
    "        eeg_latent, mnist_latent, _ = batch\n",
    "        projected = self(eeg_latent)\n",
    "        val_loss = self.criterion(projected, mnist_latent)\n",
    "        self.log(\"val_loss\", val_loss, on_step=True, on_epoch=True, prog_bar=True)        \n",
    "        return val_loss\n",
    "\n",
    "    def configure_optimizers(self):\n",
    "        optimizer = torch.optim.Adam(self.parameters(), lr=1e-3)\n",
    "        scheduler = torch.optim.lr_scheduler.ReduceLROnPlateau(optimizer, mode='min', factor=0.5, patience=5, verbose=True)\n",
    "        return {\n",
    "            \"optimizer\": optimizer,\n",
    "            \"lr_scheduler\": {\n",
    "                \"scheduler\": scheduler,\n",
    "                \"monitor\": \"val_loss\",\n",
    "            },\n",
    "        }"
   ]
  },
  {
   "cell_type": "code",
   "execution_count": 15,
   "metadata": {},
   "outputs": [],
   "source": [
    "class LossTracker(Callback):\n",
    "    def __init__(self):\n",
    "        self.train_losses = []\n",
    "        self.val_losses = []\n",
    "\n",
    "    def on_train_epoch_end(self, trainer, pl_module):\n",
    "        self.train_losses.append(trainer.callback_metrics[\"train_loss\"].item())\n",
    "\n",
    "    def on_validation_epoch_end(self, trainer, pl_module):\n",
    "        self.val_losses.append(trainer.callback_metrics[\"val_loss\"].item())"
   ]
  },
  {
   "cell_type": "code",
   "execution_count": 11,
   "metadata": {},
   "outputs": [],
   "source": [
    "def plot_losses(train_losses, val_losses):\n",
    "    plt.figure(figsize=(10, 6))\n",
    "    plt.plot(train_losses, label='Training Loss')\n",
    "    plt.plot(val_losses, label='Validation Loss')\n",
    "    plt.xlabel('Epoch')\n",
    "    plt.ylabel('Loss')\n",
    "    plt.title('Training and Validation Loss over Epochs')\n",
    "    plt.legend()\n",
    "    plt.grid(True)\n",
    "    plt.show()\n",
    "\n",
    "    # Print final losses\n",
    "    print(f\"Final training loss: {train_losses[-1]}\")\n",
    "    print(f\"Final validation loss: {val_losses[-1]}\")"
   ]
  },
  {
   "cell_type": "code",
   "execution_count": null,
   "metadata": {},
   "outputs": [],
   "source": [
    "def plot_spectrogram(spectrogram, batch_idx, channel_idx, fs=128, hop_length=10, freq_limit=(0.5, 30)):\n",
    "    \"\"\"\n",
    "    Plots the spectrogram for a given batch and channel.\n",
    "\n",
    "    Parameters:\n",
    "    - spectrogram: The spectrogram data (numpy array).\n",
    "    - batch_idx: Index of the batch/sample to plot.\n",
    "    - channel_idx: Index of the channel to plot.\n",
    "    - fs: Sampling rate (default is 128).\n",
    "    - hop_length: Hop length for the spectrogram (default is 1).\n",
    "    - freq_limit: Tuple indicating the frequency range to display (default is (0.5, 5) Hz).\n",
    "    \"\"\"\n",
    "    # Extract the spectrogram for the selected sample and channel\n",
    "    sample_spectrogram = spectrogram[batch_idx, channel_idx].numpy()  # Shape: (freq_bins, time_steps)\n",
    "\n",
    "    # Generate frequency and time axes to match the shape of `sample_spectrogram`\n",
    "    freqs = np.linspace(0, fs // 2, sample_spectrogram.shape[0])  # Frequency axis\n",
    "    times = np.arange(sample_spectrogram.shape[1]) * hop_length / fs  # Time axis\n",
    "\n",
    "    # Filter frequencies to show only from 1 Hz\n",
    "    freq_mask = (freqs > freq_limit[0]) & (freqs <= freq_limit[1])\n",
    "    filtered_spectrogram = sample_spectrogram[freq_mask, :]\n",
    "    filtered_freqs = freqs[freq_mask]\n",
    "\n",
    "    # Plot the spectrogram for visualization\n",
    "    plt.figure(figsize=(10, 5))\n",
    "    plt.pcolormesh(times, filtered_freqs, filtered_spectrogram, shading='gouraud')\n",
    "    plt.colorbar(label='Magnitude')\n",
    "    plt.xlabel('Time [sec]')\n",
    "    plt.ylabel('Frequency [Hz]')\n",
    "    plt.title(f'Spectrogram - Sample {batch_idx}, Channel {channel_idx} ({freq_limit[0]} Hz and above)')\n",
    "    plt.ylim(freq_limit)  # Optionally limit to the specified frequency range\n",
    "    plt.show()"
   ]
  },
  {
   "cell_type": "code",
   "execution_count": 167,
   "metadata": {},
   "outputs": [],
   "source": [
    "def create_dataloaders(dataset, batch_size=128, train_split=0.8, seed=42):\n",
    "    total_size = len(dataset)\n",
    "    train_size = int(train_split * total_size)\n",
    "    val_size = total_size - train_size\n",
    "\n",
    "    # Use random_split to create train and validation datasets\n",
    "    train_dataset, val_dataset = random_split(dataset, [train_size, val_size], \n",
    "                                              generator=torch.Generator().manual_seed(seed))\n",
    "\n",
    "    # Create DataLoaders for the train and validation datasets\n",
    "    train_dataloader = DataLoader(\n",
    "        dataset=train_dataset,\n",
    "        batch_size=batch_size,\n",
    "        shuffle=True,\n",
    "    )\n",
    "\n",
    "    val_dataloader = DataLoader(\n",
    "        dataset=val_dataset,\n",
    "        batch_size=batch_size,\n",
    "        shuffle=False,\n",
    "    )\n",
    "\n",
    "    return train_dataloader, val_dataloader"
   ]
  },
  {
   "cell_type": "markdown",
   "metadata": {},
   "source": [
    "## EEG"
   ]
  },
  {
   "cell_type": "code",
   "execution_count": 4,
   "metadata": {},
   "outputs": [],
   "source": [
    "train_dataset = load_dataset(\"DavidVivancos/MindBigData2022_MNIST_IN\", split=\"train\")"
   ]
  },
  {
   "cell_type": "code",
   "execution_count": 168,
   "metadata": {},
   "outputs": [],
   "source": [
    "full_eeg_dataset = EEG_Dataset(train_dataset)\n",
    "eeg_train_dataloader, eeg_val_dataloader = create_dataloaders(full_eeg_dataset, batch_size=128, train_split=0.8, seed=42)"
   ]
  },
  {
   "cell_type": "code",
   "execution_count": 169,
   "metadata": {},
   "outputs": [],
   "source": [
    "full_eeg_spectogram_dataset = EEG_Spectogram_Dataset(train_dataset)\n",
    "eeg_spectogram_train_dataloader, eeg_spectogram_val_dataloader = create_dataloaders(full_eeg_spectogram_dataset, batch_size=128, train_split=0.8, seed=42)"
   ]
  },
  {
   "cell_type": "code",
   "execution_count": null,
   "metadata": {},
   "outputs": [],
   "source": [
    "# checkpoint_path = \"lightning_logs/version_16/checkpoints/epoch=9-step=5220.ckpt\"\n",
    "# autoencoder = CNNAutoencoder.load_from_checkpoint(checkpoint_path)\n",
    "latent_dim = 64\n",
    "loss_tracker = LossTracker()\n",
    "autoencoder = UNetAutoencoder(latent_dim=latent_dim)\n",
    "trainer = Trainer(max_epochs=10, callbacks=[loss_tracker])\n",
    "trainer.fit(autoencoder, eeg_train_dataloader, eeg_val_dataloader)"
   ]
  },
  {
   "cell_type": "code",
   "execution_count": null,
   "metadata": {},
   "outputs": [],
   "source": [
    "# checkpoint_path = \"lightning_logs/version_16/checkpoints/epoch=9-step=5220.ckpt\"\n",
    "# autoencoder = CNNAutoencoder.load_from_checkpoint(checkpoint_path)\n",
    "loss_tracker = LossTracker()\n",
    "autoencoder = CNNClassifier(input_channels=5, sequence_length=256, dropout_rate=.2)\n",
    "trainer = Trainer(max_epochs=50, callbacks=[loss_tracker])\n",
    "trainer.fit(autoencoder, eeg_train_dataloader, eeg_val_dataloader)"
   ]
  },
  {
   "cell_type": "code",
   "execution_count": 21,
   "metadata": {},
   "outputs": [
    {
     "name": "stderr",
     "output_type": "stream",
     "text": [
      "GPU available: False, used: False\n",
      "TPU available: False, using: 0 TPU cores\n",
      "HPU available: False, using: 0 HPUs\n",
      "\n",
      "   | Name       | Type             | Params | Mode \n",
      "---------------------------------------------------------\n",
      "0  | conv1      | Conv1d           | 130    | train\n",
      "1  | leaky1     | LeakyReLU        | 0      | train\n",
      "2  | norm1      | BatchNorm1d      | 10     | train\n",
      "3  | conv2      | Conv1d           | 78     | train\n",
      "4  | leaky2     | LeakyReLU        | 0      | train\n",
      "5  | norm2      | BatchNorm1d      | 6      | train\n",
      "6  | conv3      | Conv1d           | 48     | train\n",
      "7  | leaky3     | LeakyReLU        | 0      | train\n",
      "8  | norm3      | BatchNorm1d      | 6      | train\n",
      "9  | fc1        | Sequential       | 590 K  | train\n",
      "10 | fc2        | Sequential       | 147 K  | train\n",
      "11 | classifier | Linear           | 1.9 K  | train\n",
      "12 | criterion  | CrossEntropyLoss | 0      | train\n",
      "---------------------------------------------------------\n",
      "740 K     Trainable params\n",
      "0         Non-trainable params\n",
      "740 K     Total params\n",
      "2.962     Total estimated model params size (MB)\n",
      "20        Modules in train mode\n",
      "0         Modules in eval mode\n"
     ]
    },
    {
     "data": {
      "application/vnd.jupyter.widget-view+json": {
       "model_id": "4c668cade095497db0714c162f6faeca",
       "version_major": 2,
       "version_minor": 0
      },
      "text/plain": [
       "Sanity Checking: |          | 0/? [00:00<?, ?it/s]"
      ]
     },
     "metadata": {},
     "output_type": "display_data"
    },
    {
     "data": {
      "application/vnd.jupyter.widget-view+json": {
       "model_id": "b616260b03d54e0d953cc5ab5d1d6115",
       "version_major": 2,
       "version_minor": 0
      },
      "text/plain": [
       "Training: |          | 0/? [00:00<?, ?it/s]"
      ]
     },
     "metadata": {},
     "output_type": "display_data"
    },
    {
     "data": {
      "application/vnd.jupyter.widget-view+json": {
       "model_id": "3ce405899413447881c2f0994df8c05b",
       "version_major": 2,
       "version_minor": 0
      },
      "text/plain": [
       "Validation: |          | 0/? [00:00<?, ?it/s]"
      ]
     },
     "metadata": {},
     "output_type": "display_data"
    },
    {
     "data": {
      "application/vnd.jupyter.widget-view+json": {
       "model_id": "42070b7d5b71416f9e65babd16cf941c",
       "version_major": 2,
       "version_minor": 0
      },
      "text/plain": [
       "Validation: |          | 0/? [00:00<?, ?it/s]"
      ]
     },
     "metadata": {},
     "output_type": "display_data"
    },
    {
     "data": {
      "application/vnd.jupyter.widget-view+json": {
       "model_id": "b132a037df8e4edeb3c01f2ea4714c42",
       "version_major": 2,
       "version_minor": 0
      },
      "text/plain": [
       "Validation: |          | 0/? [00:00<?, ?it/s]"
      ]
     },
     "metadata": {},
     "output_type": "display_data"
    },
    {
     "data": {
      "application/vnd.jupyter.widget-view+json": {
       "model_id": "8f88741c9db44bc994b344c7463b06ff",
       "version_major": 2,
       "version_minor": 0
      },
      "text/plain": [
       "Validation: |          | 0/? [00:00<?, ?it/s]"
      ]
     },
     "metadata": {},
     "output_type": "display_data"
    },
    {
     "data": {
      "application/vnd.jupyter.widget-view+json": {
       "model_id": "a9fa9a0de6f24b618662217b2d9431b7",
       "version_major": 2,
       "version_minor": 0
      },
      "text/plain": [
       "Validation: |          | 0/? [00:00<?, ?it/s]"
      ]
     },
     "metadata": {},
     "output_type": "display_data"
    },
    {
     "data": {
      "application/vnd.jupyter.widget-view+json": {
       "model_id": "47391265b796481f9779536bd3c8b645",
       "version_major": 2,
       "version_minor": 0
      },
      "text/plain": [
       "Validation: |          | 0/? [00:00<?, ?it/s]"
      ]
     },
     "metadata": {},
     "output_type": "display_data"
    },
    {
     "data": {
      "application/vnd.jupyter.widget-view+json": {
       "model_id": "2b0c738286524023ab01c44a134d0f16",
       "version_major": 2,
       "version_minor": 0
      },
      "text/plain": [
       "Validation: |          | 0/? [00:00<?, ?it/s]"
      ]
     },
     "metadata": {},
     "output_type": "display_data"
    },
    {
     "data": {
      "application/vnd.jupyter.widget-view+json": {
       "model_id": "ff2c4ee8a6274db3870664cd34775a5c",
       "version_major": 2,
       "version_minor": 0
      },
      "text/plain": [
       "Validation: |          | 0/? [00:00<?, ?it/s]"
      ]
     },
     "metadata": {},
     "output_type": "display_data"
    },
    {
     "data": {
      "application/vnd.jupyter.widget-view+json": {
       "model_id": "6bec8690f47046f1aa269204424c21d8",
       "version_major": 2,
       "version_minor": 0
      },
      "text/plain": [
       "Validation: |          | 0/? [00:00<?, ?it/s]"
      ]
     },
     "metadata": {},
     "output_type": "display_data"
    },
    {
     "data": {
      "application/vnd.jupyter.widget-view+json": {
       "model_id": "6390b081a5e0442f817eb38fcdebba1e",
       "version_major": 2,
       "version_minor": 0
      },
      "text/plain": [
       "Validation: |          | 0/? [00:00<?, ?it/s]"
      ]
     },
     "metadata": {},
     "output_type": "display_data"
    },
    {
     "data": {
      "application/vnd.jupyter.widget-view+json": {
       "model_id": "b968cd2c2bed41999139395ac1b80440",
       "version_major": 2,
       "version_minor": 0
      },
      "text/plain": [
       "Validation: |          | 0/? [00:00<?, ?it/s]"
      ]
     },
     "metadata": {},
     "output_type": "display_data"
    },
    {
     "data": {
      "application/vnd.jupyter.widget-view+json": {
       "model_id": "940f91fa56a2440c9f74943be7089d55",
       "version_major": 2,
       "version_minor": 0
      },
      "text/plain": [
       "Validation: |          | 0/? [00:00<?, ?it/s]"
      ]
     },
     "metadata": {},
     "output_type": "display_data"
    },
    {
     "data": {
      "application/vnd.jupyter.widget-view+json": {
       "model_id": "a49c68f8cabf4c83b5b4908b2097945f",
       "version_major": 2,
       "version_minor": 0
      },
      "text/plain": [
       "Validation: |          | 0/? [00:00<?, ?it/s]"
      ]
     },
     "metadata": {},
     "output_type": "display_data"
    },
    {
     "data": {
      "application/vnd.jupyter.widget-view+json": {
       "model_id": "1db9fabab66d491fa157e03cd13c6134",
       "version_major": 2,
       "version_minor": 0
      },
      "text/plain": [
       "Validation: |          | 0/? [00:00<?, ?it/s]"
      ]
     },
     "metadata": {},
     "output_type": "display_data"
    },
    {
     "data": {
      "application/vnd.jupyter.widget-view+json": {
       "model_id": "82404d6b18c44d94af99f8bfd384d39d",
       "version_major": 2,
       "version_minor": 0
      },
      "text/plain": [
       "Validation: |          | 0/? [00:00<?, ?it/s]"
      ]
     },
     "metadata": {},
     "output_type": "display_data"
    },
    {
     "data": {
      "application/vnd.jupyter.widget-view+json": {
       "model_id": "33a99b5acf2f43efaac4c2cd570cbf28",
       "version_major": 2,
       "version_minor": 0
      },
      "text/plain": [
       "Validation: |          | 0/? [00:00<?, ?it/s]"
      ]
     },
     "metadata": {},
     "output_type": "display_data"
    },
    {
     "data": {
      "application/vnd.jupyter.widget-view+json": {
       "model_id": "5e618cb2d9f74545b66b590f34d87c6b",
       "version_major": 2,
       "version_minor": 0
      },
      "text/plain": [
       "Validation: |          | 0/? [00:00<?, ?it/s]"
      ]
     },
     "metadata": {},
     "output_type": "display_data"
    },
    {
     "data": {
      "application/vnd.jupyter.widget-view+json": {
       "model_id": "9553f9e4f2dd4fcbaf787adc86ef1e32",
       "version_major": 2,
       "version_minor": 0
      },
      "text/plain": [
       "Validation: |          | 0/? [00:00<?, ?it/s]"
      ]
     },
     "metadata": {},
     "output_type": "display_data"
    },
    {
     "data": {
      "application/vnd.jupyter.widget-view+json": {
       "model_id": "82aa17183b2c43418bb2e4e4ea2f1cf8",
       "version_major": 2,
       "version_minor": 0
      },
      "text/plain": [
       "Validation: |          | 0/? [00:00<?, ?it/s]"
      ]
     },
     "metadata": {},
     "output_type": "display_data"
    },
    {
     "data": {
      "application/vnd.jupyter.widget-view+json": {
       "model_id": "43829137feb94dd3a5abd64c063e13da",
       "version_major": 2,
       "version_minor": 0
      },
      "text/plain": [
       "Validation: |          | 0/? [00:00<?, ?it/s]"
      ]
     },
     "metadata": {},
     "output_type": "display_data"
    },
    {
     "data": {
      "application/vnd.jupyter.widget-view+json": {
       "model_id": "f3f9acaa97f1495da8106c79ab26e9ea",
       "version_major": 2,
       "version_minor": 0
      },
      "text/plain": [
       "Validation: |          | 0/? [00:00<?, ?it/s]"
      ]
     },
     "metadata": {},
     "output_type": "display_data"
    },
    {
     "data": {
      "application/vnd.jupyter.widget-view+json": {
       "model_id": "00667421d9714182a52eca1cc59a3035",
       "version_major": 2,
       "version_minor": 0
      },
      "text/plain": [
       "Validation: |          | 0/? [00:00<?, ?it/s]"
      ]
     },
     "metadata": {},
     "output_type": "display_data"
    },
    {
     "data": {
      "application/vnd.jupyter.widget-view+json": {
       "model_id": "7a56cd3e392b4c3299cf40d7bc06a605",
       "version_major": 2,
       "version_minor": 0
      },
      "text/plain": [
       "Validation: |          | 0/? [00:00<?, ?it/s]"
      ]
     },
     "metadata": {},
     "output_type": "display_data"
    },
    {
     "data": {
      "application/vnd.jupyter.widget-view+json": {
       "model_id": "308969fa2b2449e9b0e4f5d0be64ada9",
       "version_major": 2,
       "version_minor": 0
      },
      "text/plain": [
       "Validation: |          | 0/? [00:00<?, ?it/s]"
      ]
     },
     "metadata": {},
     "output_type": "display_data"
    },
    {
     "data": {
      "application/vnd.jupyter.widget-view+json": {
       "model_id": "eb895d86bdce4eb6b261296996da927e",
       "version_major": 2,
       "version_minor": 0
      },
      "text/plain": [
       "Validation: |          | 0/? [00:00<?, ?it/s]"
      ]
     },
     "metadata": {},
     "output_type": "display_data"
    },
    {
     "data": {
      "application/vnd.jupyter.widget-view+json": {
       "model_id": "94d8294e5b6c4b59a790334daa941e6f",
       "version_major": 2,
       "version_minor": 0
      },
      "text/plain": [
       "Validation: |          | 0/? [00:00<?, ?it/s]"
      ]
     },
     "metadata": {},
     "output_type": "display_data"
    },
    {
     "data": {
      "application/vnd.jupyter.widget-view+json": {
       "model_id": "9272853a05d64ac5b7288df1957da809",
       "version_major": 2,
       "version_minor": 0
      },
      "text/plain": [
       "Validation: |          | 0/? [00:00<?, ?it/s]"
      ]
     },
     "metadata": {},
     "output_type": "display_data"
    },
    {
     "data": {
      "application/vnd.jupyter.widget-view+json": {
       "model_id": "84ac2e9b3e144b809fb089c3bd239381",
       "version_major": 2,
       "version_minor": 0
      },
      "text/plain": [
       "Validation: |          | 0/? [00:00<?, ?it/s]"
      ]
     },
     "metadata": {},
     "output_type": "display_data"
    },
    {
     "data": {
      "application/vnd.jupyter.widget-view+json": {
       "model_id": "dae6719093b94ad2ba5b759e3fff64bd",
       "version_major": 2,
       "version_minor": 0
      },
      "text/plain": [
       "Validation: |          | 0/? [00:00<?, ?it/s]"
      ]
     },
     "metadata": {},
     "output_type": "display_data"
    },
    {
     "data": {
      "application/vnd.jupyter.widget-view+json": {
       "model_id": "3bc98c51219945b79f3e12c765902c81",
       "version_major": 2,
       "version_minor": 0
      },
      "text/plain": [
       "Validation: |          | 0/? [00:00<?, ?it/s]"
      ]
     },
     "metadata": {},
     "output_type": "display_data"
    },
    {
     "data": {
      "application/vnd.jupyter.widget-view+json": {
       "model_id": "1878bbcc84904680b70385e1d1c87709",
       "version_major": 2,
       "version_minor": 0
      },
      "text/plain": [
       "Validation: |          | 0/? [00:00<?, ?it/s]"
      ]
     },
     "metadata": {},
     "output_type": "display_data"
    },
    {
     "data": {
      "application/vnd.jupyter.widget-view+json": {
       "model_id": "d4ccbfddd762465a807638a749ccd75b",
       "version_major": 2,
       "version_minor": 0
      },
      "text/plain": [
       "Validation: |          | 0/? [00:00<?, ?it/s]"
      ]
     },
     "metadata": {},
     "output_type": "display_data"
    },
    {
     "data": {
      "application/vnd.jupyter.widget-view+json": {
       "model_id": "4d06a3e55a314efcbeba5575fddbeec5",
       "version_major": 2,
       "version_minor": 0
      },
      "text/plain": [
       "Validation: |          | 0/? [00:00<?, ?it/s]"
      ]
     },
     "metadata": {},
     "output_type": "display_data"
    },
    {
     "data": {
      "application/vnd.jupyter.widget-view+json": {
       "model_id": "25bee1935dd6466facdc76a776277ed6",
       "version_major": 2,
       "version_minor": 0
      },
      "text/plain": [
       "Validation: |          | 0/? [00:00<?, ?it/s]"
      ]
     },
     "metadata": {},
     "output_type": "display_data"
    },
    {
     "data": {
      "application/vnd.jupyter.widget-view+json": {
       "model_id": "305139c9f682468095161b1784770786",
       "version_major": 2,
       "version_minor": 0
      },
      "text/plain": [
       "Validation: |          | 0/? [00:00<?, ?it/s]"
      ]
     },
     "metadata": {},
     "output_type": "display_data"
    },
    {
     "data": {
      "application/vnd.jupyter.widget-view+json": {
       "model_id": "c106c2cb25f04b91a27c51185af81a44",
       "version_major": 2,
       "version_minor": 0
      },
      "text/plain": [
       "Validation: |          | 0/? [00:00<?, ?it/s]"
      ]
     },
     "metadata": {},
     "output_type": "display_data"
    },
    {
     "data": {
      "application/vnd.jupyter.widget-view+json": {
       "model_id": "51fac9c41c334a43af77856216e4a594",
       "version_major": 2,
       "version_minor": 0
      },
      "text/plain": [
       "Validation: |          | 0/? [00:00<?, ?it/s]"
      ]
     },
     "metadata": {},
     "output_type": "display_data"
    },
    {
     "data": {
      "application/vnd.jupyter.widget-view+json": {
       "model_id": "fc24344a9b8e4fb4a77a109a97ca2488",
       "version_major": 2,
       "version_minor": 0
      },
      "text/plain": [
       "Validation: |          | 0/? [00:00<?, ?it/s]"
      ]
     },
     "metadata": {},
     "output_type": "display_data"
    },
    {
     "data": {
      "application/vnd.jupyter.widget-view+json": {
       "model_id": "531920fda3f24fbeafa3e14ad0c88d26",
       "version_major": 2,
       "version_minor": 0
      },
      "text/plain": [
       "Validation: |          | 0/? [00:00<?, ?it/s]"
      ]
     },
     "metadata": {},
     "output_type": "display_data"
    },
    {
     "data": {
      "application/vnd.jupyter.widget-view+json": {
       "model_id": "1f6934dad445405da3b6d22d41ead7eb",
       "version_major": 2,
       "version_minor": 0
      },
      "text/plain": [
       "Validation: |          | 0/? [00:00<?, ?it/s]"
      ]
     },
     "metadata": {},
     "output_type": "display_data"
    },
    {
     "data": {
      "application/vnd.jupyter.widget-view+json": {
       "model_id": "9ea240db0145418a9986553b7bf13609",
       "version_major": 2,
       "version_minor": 0
      },
      "text/plain": [
       "Validation: |          | 0/? [00:00<?, ?it/s]"
      ]
     },
     "metadata": {},
     "output_type": "display_data"
    },
    {
     "data": {
      "application/vnd.jupyter.widget-view+json": {
       "model_id": "92a604a931bc45e3b157376a28b9522c",
       "version_major": 2,
       "version_minor": 0
      },
      "text/plain": [
       "Validation: |          | 0/? [00:00<?, ?it/s]"
      ]
     },
     "metadata": {},
     "output_type": "display_data"
    },
    {
     "data": {
      "application/vnd.jupyter.widget-view+json": {
       "model_id": "22d393bdca2741a29f65d7f77be6581e",
       "version_major": 2,
       "version_minor": 0
      },
      "text/plain": [
       "Validation: |          | 0/? [00:00<?, ?it/s]"
      ]
     },
     "metadata": {},
     "output_type": "display_data"
    },
    {
     "data": {
      "application/vnd.jupyter.widget-view+json": {
       "model_id": "c9b2dbcee0b841189d29c84827988db2",
       "version_major": 2,
       "version_minor": 0
      },
      "text/plain": [
       "Validation: |          | 0/? [00:00<?, ?it/s]"
      ]
     },
     "metadata": {},
     "output_type": "display_data"
    },
    {
     "data": {
      "application/vnd.jupyter.widget-view+json": {
       "model_id": "e7a0f72ff46642bf900c62898e4f0262",
       "version_major": 2,
       "version_minor": 0
      },
      "text/plain": [
       "Validation: |          | 0/? [00:00<?, ?it/s]"
      ]
     },
     "metadata": {},
     "output_type": "display_data"
    },
    {
     "data": {
      "application/vnd.jupyter.widget-view+json": {
       "model_id": "d265dc87b60641b88d0758f8c3ecf495",
       "version_major": 2,
       "version_minor": 0
      },
      "text/plain": [
       "Validation: |          | 0/? [00:00<?, ?it/s]"
      ]
     },
     "metadata": {},
     "output_type": "display_data"
    },
    {
     "data": {
      "application/vnd.jupyter.widget-view+json": {
       "model_id": "572d33addea34f5e9aca85ada58d76ce",
       "version_major": 2,
       "version_minor": 0
      },
      "text/plain": [
       "Validation: |          | 0/? [00:00<?, ?it/s]"
      ]
     },
     "metadata": {},
     "output_type": "display_data"
    },
    {
     "data": {
      "application/vnd.jupyter.widget-view+json": {
       "model_id": "9391801c911b41fb8bc90021cf488ae7",
       "version_major": 2,
       "version_minor": 0
      },
      "text/plain": [
       "Validation: |          | 0/? [00:00<?, ?it/s]"
      ]
     },
     "metadata": {},
     "output_type": "display_data"
    },
    {
     "data": {
      "application/vnd.jupyter.widget-view+json": {
       "model_id": "2c5aa12f5dea4b6f8d32cd95e03328a3",
       "version_major": 2,
       "version_minor": 0
      },
      "text/plain": [
       "Validation: |          | 0/? [00:00<?, ?it/s]"
      ]
     },
     "metadata": {},
     "output_type": "display_data"
    },
    {
     "data": {
      "application/vnd.jupyter.widget-view+json": {
       "model_id": "79735348dcf4481d93546b301acb8cd3",
       "version_major": 2,
       "version_minor": 0
      },
      "text/plain": [
       "Validation: |          | 0/? [00:00<?, ?it/s]"
      ]
     },
     "metadata": {},
     "output_type": "display_data"
    },
    {
     "data": {
      "application/vnd.jupyter.widget-view+json": {
       "model_id": "49852dcfaee54d948cc3c4a551a5b3a0",
       "version_major": 2,
       "version_minor": 0
      },
      "text/plain": [
       "Validation: |          | 0/? [00:00<?, ?it/s]"
      ]
     },
     "metadata": {},
     "output_type": "display_data"
    },
    {
     "data": {
      "application/vnd.jupyter.widget-view+json": {
       "model_id": "fcff433afecb426d964fb748d33f8b85",
       "version_major": 2,
       "version_minor": 0
      },
      "text/plain": [
       "Validation: |          | 0/? [00:00<?, ?it/s]"
      ]
     },
     "metadata": {},
     "output_type": "display_data"
    },
    {
     "data": {
      "application/vnd.jupyter.widget-view+json": {
       "model_id": "c5bd1b252997425fb499027ff48b049e",
       "version_major": 2,
       "version_minor": 0
      },
      "text/plain": [
       "Validation: |          | 0/? [00:00<?, ?it/s]"
      ]
     },
     "metadata": {},
     "output_type": "display_data"
    },
    {
     "data": {
      "application/vnd.jupyter.widget-view+json": {
       "model_id": "dea1af482ad74825a015328cd189ee52",
       "version_major": 2,
       "version_minor": 0
      },
      "text/plain": [
       "Validation: |          | 0/? [00:00<?, ?it/s]"
      ]
     },
     "metadata": {},
     "output_type": "display_data"
    },
    {
     "data": {
      "application/vnd.jupyter.widget-view+json": {
       "model_id": "90e688ef9d234dd390a08921e5aad164",
       "version_major": 2,
       "version_minor": 0
      },
      "text/plain": [
       "Validation: |          | 0/? [00:00<?, ?it/s]"
      ]
     },
     "metadata": {},
     "output_type": "display_data"
    },
    {
     "data": {
      "application/vnd.jupyter.widget-view+json": {
       "model_id": "901afd684663440e87e2fbc081e235e4",
       "version_major": 2,
       "version_minor": 0
      },
      "text/plain": [
       "Validation: |          | 0/? [00:00<?, ?it/s]"
      ]
     },
     "metadata": {},
     "output_type": "display_data"
    },
    {
     "data": {
      "application/vnd.jupyter.widget-view+json": {
       "model_id": "10ad672260f14d8685ed17b9e7c6d827",
       "version_major": 2,
       "version_minor": 0
      },
      "text/plain": [
       "Validation: |          | 0/? [00:00<?, ?it/s]"
      ]
     },
     "metadata": {},
     "output_type": "display_data"
    },
    {
     "data": {
      "application/vnd.jupyter.widget-view+json": {
       "model_id": "a49144f6126f48088c5f3afe6b0fe77b",
       "version_major": 2,
       "version_minor": 0
      },
      "text/plain": [
       "Validation: |          | 0/? [00:00<?, ?it/s]"
      ]
     },
     "metadata": {},
     "output_type": "display_data"
    },
    {
     "data": {
      "application/vnd.jupyter.widget-view+json": {
       "model_id": "a765d4ada71c40e5bffa9cebc4264011",
       "version_major": 2,
       "version_minor": 0
      },
      "text/plain": [
       "Validation: |          | 0/? [00:00<?, ?it/s]"
      ]
     },
     "metadata": {},
     "output_type": "display_data"
    },
    {
     "data": {
      "application/vnd.jupyter.widget-view+json": {
       "model_id": "6314082f0936416fbbbbb649058fd68d",
       "version_major": 2,
       "version_minor": 0
      },
      "text/plain": [
       "Validation: |          | 0/? [00:00<?, ?it/s]"
      ]
     },
     "metadata": {},
     "output_type": "display_data"
    },
    {
     "data": {
      "application/vnd.jupyter.widget-view+json": {
       "model_id": "f1854f6141354aa28c0ee5542edb7571",
       "version_major": 2,
       "version_minor": 0
      },
      "text/plain": [
       "Validation: |          | 0/? [00:00<?, ?it/s]"
      ]
     },
     "metadata": {},
     "output_type": "display_data"
    },
    {
     "data": {
      "application/vnd.jupyter.widget-view+json": {
       "model_id": "bdfbc41b22814c9eaa3b6db4f0e4ee0f",
       "version_major": 2,
       "version_minor": 0
      },
      "text/plain": [
       "Validation: |          | 0/? [00:00<?, ?it/s]"
      ]
     },
     "metadata": {},
     "output_type": "display_data"
    },
    {
     "data": {
      "application/vnd.jupyter.widget-view+json": {
       "model_id": "3265a72ce09d4b31a93fcd92bcacf0cc",
       "version_major": 2,
       "version_minor": 0
      },
      "text/plain": [
       "Validation: |          | 0/? [00:00<?, ?it/s]"
      ]
     },
     "metadata": {},
     "output_type": "display_data"
    },
    {
     "data": {
      "application/vnd.jupyter.widget-view+json": {
       "model_id": "180bfdea31df4cb6961ecab58e89efcf",
       "version_major": 2,
       "version_minor": 0
      },
      "text/plain": [
       "Validation: |          | 0/? [00:00<?, ?it/s]"
      ]
     },
     "metadata": {},
     "output_type": "display_data"
    },
    {
     "data": {
      "application/vnd.jupyter.widget-view+json": {
       "model_id": "47009beca37d46088c9fdb1f2e91b618",
       "version_major": 2,
       "version_minor": 0
      },
      "text/plain": [
       "Validation: |          | 0/? [00:00<?, ?it/s]"
      ]
     },
     "metadata": {},
     "output_type": "display_data"
    },
    {
     "data": {
      "application/vnd.jupyter.widget-view+json": {
       "model_id": "570f0e135e17455ead06917110028794",
       "version_major": 2,
       "version_minor": 0
      },
      "text/plain": [
       "Validation: |          | 0/? [00:00<?, ?it/s]"
      ]
     },
     "metadata": {},
     "output_type": "display_data"
    },
    {
     "data": {
      "application/vnd.jupyter.widget-view+json": {
       "model_id": "8207193afbba46c19dc20b0c29435048",
       "version_major": 2,
       "version_minor": 0
      },
      "text/plain": [
       "Validation: |          | 0/? [00:00<?, ?it/s]"
      ]
     },
     "metadata": {},
     "output_type": "display_data"
    },
    {
     "data": {
      "application/vnd.jupyter.widget-view+json": {
       "model_id": "2e5794b6f19b434abb5d799504a0725a",
       "version_major": 2,
       "version_minor": 0
      },
      "text/plain": [
       "Validation: |          | 0/? [00:00<?, ?it/s]"
      ]
     },
     "metadata": {},
     "output_type": "display_data"
    },
    {
     "data": {
      "application/vnd.jupyter.widget-view+json": {
       "model_id": "d36c0292dd754ac5b00adf9c6cf72a1c",
       "version_major": 2,
       "version_minor": 0
      },
      "text/plain": [
       "Validation: |          | 0/? [00:00<?, ?it/s]"
      ]
     },
     "metadata": {},
     "output_type": "display_data"
    },
    {
     "data": {
      "application/vnd.jupyter.widget-view+json": {
       "model_id": "2b0e9a72bb56426c944a64f4470cc4ab",
       "version_major": 2,
       "version_minor": 0
      },
      "text/plain": [
       "Validation: |          | 0/? [00:00<?, ?it/s]"
      ]
     },
     "metadata": {},
     "output_type": "display_data"
    },
    {
     "data": {
      "application/vnd.jupyter.widget-view+json": {
       "model_id": "7704002546c344579a624a8346f394cf",
       "version_major": 2,
       "version_minor": 0
      },
      "text/plain": [
       "Validation: |          | 0/? [00:00<?, ?it/s]"
      ]
     },
     "metadata": {},
     "output_type": "display_data"
    },
    {
     "data": {
      "application/vnd.jupyter.widget-view+json": {
       "model_id": "eba79d5213a244359dfc46d90a2c7c86",
       "version_major": 2,
       "version_minor": 0
      },
      "text/plain": [
       "Validation: |          | 0/? [00:00<?, ?it/s]"
      ]
     },
     "metadata": {},
     "output_type": "display_data"
    },
    {
     "data": {
      "application/vnd.jupyter.widget-view+json": {
       "model_id": "2acac6606334494eabc13ad9e21505a0",
       "version_major": 2,
       "version_minor": 0
      },
      "text/plain": [
       "Validation: |          | 0/? [00:00<?, ?it/s]"
      ]
     },
     "metadata": {},
     "output_type": "display_data"
    },
    {
     "data": {
      "application/vnd.jupyter.widget-view+json": {
       "model_id": "fb28e064a9704147a1cbbdf72d5fa093",
       "version_major": 2,
       "version_minor": 0
      },
      "text/plain": [
       "Validation: |          | 0/? [00:00<?, ?it/s]"
      ]
     },
     "metadata": {},
     "output_type": "display_data"
    },
    {
     "data": {
      "application/vnd.jupyter.widget-view+json": {
       "model_id": "bdf5f19ddac3463d92a3df801254a1fd",
       "version_major": 2,
       "version_minor": 0
      },
      "text/plain": [
       "Validation: |          | 0/? [00:00<?, ?it/s]"
      ]
     },
     "metadata": {},
     "output_type": "display_data"
    },
    {
     "data": {
      "application/vnd.jupyter.widget-view+json": {
       "model_id": "21ace775c537485e96c360e1a3c55fdf",
       "version_major": 2,
       "version_minor": 0
      },
      "text/plain": [
       "Validation: |          | 0/? [00:00<?, ?it/s]"
      ]
     },
     "metadata": {},
     "output_type": "display_data"
    },
    {
     "data": {
      "application/vnd.jupyter.widget-view+json": {
       "model_id": "2d1f3f6e5fbd492cb1a972db20475630",
       "version_major": 2,
       "version_minor": 0
      },
      "text/plain": [
       "Validation: |          | 0/? [00:00<?, ?it/s]"
      ]
     },
     "metadata": {},
     "output_type": "display_data"
    },
    {
     "data": {
      "application/vnd.jupyter.widget-view+json": {
       "model_id": "6bdedd80cd9848ce94581384af88bfa1",
       "version_major": 2,
       "version_minor": 0
      },
      "text/plain": [
       "Validation: |          | 0/? [00:00<?, ?it/s]"
      ]
     },
     "metadata": {},
     "output_type": "display_data"
    },
    {
     "data": {
      "application/vnd.jupyter.widget-view+json": {
       "model_id": "ecc77e8188ce45adb5e6139d1a7c1bd4",
       "version_major": 2,
       "version_minor": 0
      },
      "text/plain": [
       "Validation: |          | 0/? [00:00<?, ?it/s]"
      ]
     },
     "metadata": {},
     "output_type": "display_data"
    },
    {
     "data": {
      "application/vnd.jupyter.widget-view+json": {
       "model_id": "cfdae216c6cf45389645b48a48b65653",
       "version_major": 2,
       "version_minor": 0
      },
      "text/plain": [
       "Validation: |          | 0/? [00:00<?, ?it/s]"
      ]
     },
     "metadata": {},
     "output_type": "display_data"
    },
    {
     "data": {
      "application/vnd.jupyter.widget-view+json": {
       "model_id": "56b3828652a64204b281b6cd1ddbc9a0",
       "version_major": 2,
       "version_minor": 0
      },
      "text/plain": [
       "Validation: |          | 0/? [00:00<?, ?it/s]"
      ]
     },
     "metadata": {},
     "output_type": "display_data"
    },
    {
     "data": {
      "application/vnd.jupyter.widget-view+json": {
       "model_id": "6fffbc841f434e52ad75fe8cfb1b9576",
       "version_major": 2,
       "version_minor": 0
      },
      "text/plain": [
       "Validation: |          | 0/? [00:00<?, ?it/s]"
      ]
     },
     "metadata": {},
     "output_type": "display_data"
    },
    {
     "data": {
      "application/vnd.jupyter.widget-view+json": {
       "model_id": "4c0ec35dd6484b55821f37c410328397",
       "version_major": 2,
       "version_minor": 0
      },
      "text/plain": [
       "Validation: |          | 0/? [00:00<?, ?it/s]"
      ]
     },
     "metadata": {},
     "output_type": "display_data"
    },
    {
     "data": {
      "application/vnd.jupyter.widget-view+json": {
       "model_id": "0b894b5e8f82495cad6376e52b192e76",
       "version_major": 2,
       "version_minor": 0
      },
      "text/plain": [
       "Validation: |          | 0/? [00:00<?, ?it/s]"
      ]
     },
     "metadata": {},
     "output_type": "display_data"
    },
    {
     "data": {
      "application/vnd.jupyter.widget-view+json": {
       "model_id": "23fe5cdbbf024e97acd76681a9f08d02",
       "version_major": 2,
       "version_minor": 0
      },
      "text/plain": [
       "Validation: |          | 0/? [00:00<?, ?it/s]"
      ]
     },
     "metadata": {},
     "output_type": "display_data"
    },
    {
     "data": {
      "application/vnd.jupyter.widget-view+json": {
       "model_id": "4f23918824f447e28f360c92bd6130e5",
       "version_major": 2,
       "version_minor": 0
      },
      "text/plain": [
       "Validation: |          | 0/? [00:00<?, ?it/s]"
      ]
     },
     "metadata": {},
     "output_type": "display_data"
    },
    {
     "data": {
      "application/vnd.jupyter.widget-view+json": {
       "model_id": "67a9792e0de74a9d81403ff891135ced",
       "version_major": 2,
       "version_minor": 0
      },
      "text/plain": [
       "Validation: |          | 0/? [00:00<?, ?it/s]"
      ]
     },
     "metadata": {},
     "output_type": "display_data"
    },
    {
     "data": {
      "application/vnd.jupyter.widget-view+json": {
       "model_id": "268040f78b46470ebb357b137ce03649",
       "version_major": 2,
       "version_minor": 0
      },
      "text/plain": [
       "Validation: |          | 0/? [00:00<?, ?it/s]"
      ]
     },
     "metadata": {},
     "output_type": "display_data"
    },
    {
     "data": {
      "application/vnd.jupyter.widget-view+json": {
       "model_id": "d8b88b703ecb406ba08dfbd7a43c370f",
       "version_major": 2,
       "version_minor": 0
      },
      "text/plain": [
       "Validation: |          | 0/? [00:00<?, ?it/s]"
      ]
     },
     "metadata": {},
     "output_type": "display_data"
    },
    {
     "data": {
      "application/vnd.jupyter.widget-view+json": {
       "model_id": "f3dbc1f531ea4ffeb1b281bfe004b1ee",
       "version_major": 2,
       "version_minor": 0
      },
      "text/plain": [
       "Validation: |          | 0/? [00:00<?, ?it/s]"
      ]
     },
     "metadata": {},
     "output_type": "display_data"
    },
    {
     "data": {
      "application/vnd.jupyter.widget-view+json": {
       "model_id": "3c256a7ac0f2463f85c27daf89bdfb8a",
       "version_major": 2,
       "version_minor": 0
      },
      "text/plain": [
       "Validation: |          | 0/? [00:00<?, ?it/s]"
      ]
     },
     "metadata": {},
     "output_type": "display_data"
    },
    {
     "data": {
      "application/vnd.jupyter.widget-view+json": {
       "model_id": "97ca17879135495996cd1595478645d1",
       "version_major": 2,
       "version_minor": 0
      },
      "text/plain": [
       "Validation: |          | 0/? [00:00<?, ?it/s]"
      ]
     },
     "metadata": {},
     "output_type": "display_data"
    },
    {
     "data": {
      "application/vnd.jupyter.widget-view+json": {
       "model_id": "4b3997ecdb7641d784b06191adf769f9",
       "version_major": 2,
       "version_minor": 0
      },
      "text/plain": [
       "Validation: |          | 0/? [00:00<?, ?it/s]"
      ]
     },
     "metadata": {},
     "output_type": "display_data"
    },
    {
     "data": {
      "application/vnd.jupyter.widget-view+json": {
       "model_id": "f8590f3c83d84a16a866a156ed6498f9",
       "version_major": 2,
       "version_minor": 0
      },
      "text/plain": [
       "Validation: |          | 0/? [00:00<?, ?it/s]"
      ]
     },
     "metadata": {},
     "output_type": "display_data"
    },
    {
     "data": {
      "application/vnd.jupyter.widget-view+json": {
       "model_id": "20b310dbf35a488da59030052de5cf1b",
       "version_major": 2,
       "version_minor": 0
      },
      "text/plain": [
       "Validation: |          | 0/? [00:00<?, ?it/s]"
      ]
     },
     "metadata": {},
     "output_type": "display_data"
    },
    {
     "data": {
      "application/vnd.jupyter.widget-view+json": {
       "model_id": "9e2aa7a0da28495eb8a3169d35af6928",
       "version_major": 2,
       "version_minor": 0
      },
      "text/plain": [
       "Validation: |          | 0/? [00:00<?, ?it/s]"
      ]
     },
     "metadata": {},
     "output_type": "display_data"
    },
    {
     "data": {
      "application/vnd.jupyter.widget-view+json": {
       "model_id": "3e67e6150c474960ab1f4c59dcdc2b22",
       "version_major": 2,
       "version_minor": 0
      },
      "text/plain": [
       "Validation: |          | 0/? [00:00<?, ?it/s]"
      ]
     },
     "metadata": {},
     "output_type": "display_data"
    },
    {
     "data": {
      "application/vnd.jupyter.widget-view+json": {
       "model_id": "fb21e0f8cb774ac9b7c312c955a72559",
       "version_major": 2,
       "version_minor": 0
      },
      "text/plain": [
       "Validation: |          | 0/? [00:00<?, ?it/s]"
      ]
     },
     "metadata": {},
     "output_type": "display_data"
    },
    {
     "data": {
      "application/vnd.jupyter.widget-view+json": {
       "model_id": "751c55bdc7454c5c98db64fa848e2262",
       "version_major": 2,
       "version_minor": 0
      },
      "text/plain": [
       "Validation: |          | 0/? [00:00<?, ?it/s]"
      ]
     },
     "metadata": {},
     "output_type": "display_data"
    },
    {
     "data": {
      "application/vnd.jupyter.widget-view+json": {
       "model_id": "5627299c2a64458f921d518f70070765",
       "version_major": 2,
       "version_minor": 0
      },
      "text/plain": [
       "Validation: |          | 0/? [00:00<?, ?it/s]"
      ]
     },
     "metadata": {},
     "output_type": "display_data"
    },
    {
     "name": "stderr",
     "output_type": "stream",
     "text": [
      "`Trainer.fit` stopped: `max_epochs=100` reached.\n"
     ]
    }
   ],
   "source": [
    "trainer = Trainer(max_epochs=100, callbacks=[loss_tracker])\n",
    "trainer.fit(autoencoder, eeg_train_dataloader, eeg_val_dataloader)"
   ]
  },
  {
   "cell_type": "code",
   "execution_count": null,
   "metadata": {},
   "outputs": [],
   "source": [
    "autoencoder = CNNClassifier()\n",
    "trainer = Trainer(max_epochs=50, callbacks=[loss_tracker])\n",
    "trainer.fit(autoencoder, eeg_train_dataloader, eeg_val_dataloader)"
   ]
  },
  {
   "cell_type": "markdown",
   "metadata": {},
   "source": [
    "## MNIST"
   ]
  },
  {
   "cell_type": "code",
   "execution_count": 328,
   "metadata": {},
   "outputs": [],
   "source": [
    "transform = transforms.Compose([transforms.ToTensor()])\n",
    "mnist_full = datasets.MNIST(\n",
    "    root=\"./data\", train=True, download=True, transform=transform\n",
    ")\n",
    "mnist_train_dataset, mnist_val_dataset = random_split(mnist_full, [55000, 5000])\n",
    "mnist_train_loader = DataLoader(mnist_train_dataset, batch_size=64, shuffle=True)\n",
    "mnist_val_loader = DataLoader(mnist_val_dataset, batch_size=64)"
   ]
  },
  {
   "cell_type": "code",
   "execution_count": 329,
   "metadata": {},
   "outputs": [],
   "source": [
    "checkpoint_path = \"lightning_logs/version_14/checkpoints/epoch=9-step=8600.ckpt\"\n",
    "mnist_classifier = MNISTClassifier.load_from_checkpoint(checkpoint_path)\n",
    "# mnist_classifier = MNISTClassifier(latent_dim=latent_dim)\n",
    "# mnist_trainer = pl.Trainer(max_epochs=3)\n",
    "# mnist_trainer.fit(mnist_classifier, mnist_train_loader, mnist_val_loader)"
   ]
  },
  {
   "cell_type": "markdown",
   "metadata": {},
   "source": [
    "## Model Alignement"
   ]
  },
  {
   "cell_type": "code",
   "execution_count": 355,
   "metadata": {},
   "outputs": [],
   "source": [
    "eeg_encoder = autoencoder.get_encoder()\n",
    "mnist_encoder = mnist_classifier.feature_extractor"
   ]
  },
  {
   "cell_type": "code",
   "execution_count": 356,
   "metadata": {},
   "outputs": [],
   "source": [
    "eeg_train_encoded_dataset = EncodedDataset(eeg_train_dataloader, eeg_encoder)\n",
    "eeg_val_encoded_dataset = EncodedDataset(eeg_val_dataloader, eeg_encoder)"
   ]
  },
  {
   "cell_type": "code",
   "execution_count": 357,
   "metadata": {},
   "outputs": [],
   "source": [
    "mnist_train_encoded_data = EncodedDataset(mnist_train_loader, mnist_encoder)\n",
    "mnist_val_encoded_data = EncodedDataset(mnist_val_loader, mnist_encoder)"
   ]
  },
  {
   "cell_type": "code",
   "execution_count": 358,
   "metadata": {},
   "outputs": [],
   "source": [
    "latent_train_dataset = LatentDataset(\n",
    "    eeg_train_encoded_dataset, mnist_train_encoded_data\n",
    ")\n",
    "latent_train_dataloader = DataLoader(latent_train_dataset, batch_size=32, shuffle=True)\n",
    "\n",
    "latent_val_dataset = LatentDataset(eeg_val_encoded_dataset, mnist_train_encoded_data)\n",
    "latent_val_dataloader = DataLoader(latent_val_dataset, batch_size=32, shuffle=False)"
   ]
  },
  {
   "cell_type": "code",
   "execution_count": 359,
   "metadata": {},
   "outputs": [
    {
     "name": "stderr",
     "output_type": "stream",
     "text": [
      "GPU available: False, used: False\n",
      "TPU available: False, using: 0 TPU cores\n",
      "IPU available: False, using: 0 IPUs\n",
      "HPU available: False, using: 0 HPUs\n"
     ]
    },
    {
     "name": "stderr",
     "output_type": "stream",
     "text": [
      "\n",
      "  | Name       | Type       | Params\n",
      "------------------------------------------\n",
      "0 | projection | Sequential | 58.6 K\n",
      "1 | criterion  | MSELoss    | 0     \n",
      "------------------------------------------\n",
      "58.6 K    Trainable params\n",
      "0         Non-trainable params\n",
      "58.6 K    Total params\n",
      "0.234     Total estimated model params size (MB)\n"
     ]
    },
    {
     "name": "stdout",
     "output_type": "stream",
     "text": [
      "Epoch 3:  63%|██████▎   | 1090/1719 [00:11<00:06, 96.98it/s, v_num=2, train_loss_step=11.70, val_loss_step=8.510, val_loss_epoch=11.00, train_loss_epoch=11.00]"
     ]
    }
   ],
   "source": [
    "loss_tracker = LossTracker()\n",
    "latent_projection = LatentProjection(latent_dim,latent_dim)\n",
    "latent_trainer = Trainer(max_epochs=10)\n",
    "latent_trainer.fit(latent_projection, latent_train_dataloader, latent_val_dataloader)"
   ]
  }
 ],
 "metadata": {
  "kernelspec": {
   "display_name": ".venv",
   "language": "python",
   "name": "python3"
  },
  "language_info": {
   "codemirror_mode": {
    "name": "ipython",
    "version": 3
   },
   "file_extension": ".py",
   "mimetype": "text/x-python",
   "name": "python",
   "nbconvert_exporter": "python",
   "pygments_lexer": "ipython3",
   "version": "3.11.6"
  }
 },
 "nbformat": 4,
 "nbformat_minor": 2
}
